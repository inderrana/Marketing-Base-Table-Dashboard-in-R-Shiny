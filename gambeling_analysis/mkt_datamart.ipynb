{
 "cells": [
  {
   "cell_type": "code",
   "execution_count": 1,
   "metadata": {},
   "outputs": [
    {
     "name": "stderr",
     "output_type": "stream",
     "text": [
      "Loading required package: lubridate\n",
      "\n",
      "Attaching package: ‘lubridate’\n",
      "\n",
      "The following object is masked from ‘package:base’:\n",
      "\n",
      "    date\n",
      "\n",
      "Loading required package: dplyr\n",
      "\n",
      "Attaching package: ‘dplyr’\n",
      "\n",
      "The following objects are masked from ‘package:lubridate’:\n",
      "\n",
      "    intersect, setdiff, union\n",
      "\n",
      "The following objects are masked from ‘package:stats’:\n",
      "\n",
      "    filter, lag\n",
      "\n",
      "The following objects are masked from ‘package:base’:\n",
      "\n",
      "    intersect, setdiff, setequal, union\n",
      "\n",
      "Loading required package: ggplot2\n",
      "Registered S3 methods overwritten by 'ggplot2':\n",
      "  method         from \n",
      "  [.quosures     rlang\n",
      "  c.quosures     rlang\n",
      "  print.quosures rlang\n"
     ]
    }
   ],
   "source": [
    "if (!require(\"lubridate\")) install.packages(\"lubridate\")\n",
    "if (!require(\"dplyr\")) install.packages(\"dplyr\")\n",
    "if (!require(\"ggplot2\")) install.packages(\"ggplot2\")"
   ]
  },
  {
   "cell_type": "code",
   "execution_count": 2,
   "metadata": {},
   "outputs": [
    {
     "data": {
      "text/html": [
       "'/Users/inder/Dropbox/My Mac (Inders-MacBook-Pro.local)/Documents/GitHub/marketing_datamart/gambeling_analysis'"
      ],
      "text/latex": [
       "'/Users/inder/Dropbox/My Mac (Inders-MacBook-Pro.local)/Documents/GitHub/marketing\\_datamart/gambeling\\_analysis'"
      ],
      "text/markdown": [
       "'/Users/inder/Dropbox/My Mac (Inders-MacBook-Pro.local)/Documents/GitHub/marketing_datamart/gambeling_analysis'"
      ],
      "text/plain": [
       "[1] \"/Users/inder/Dropbox/My Mac (Inders-MacBook-Pro.local)/Documents/GitHub/marketing_datamart/gambeling_analysis\""
      ]
     },
     "metadata": {},
     "output_type": "display_data"
    }
   ],
   "source": [
    "getwd()"
   ]
  },
  {
   "cell_type": "code",
   "execution_count": 3,
   "metadata": {},
   "outputs": [],
   "source": [
    "data = load('DataGroupAssignment.Rdata')"
   ]
  },
  {
   "cell_type": "code",
   "execution_count": 17,
   "metadata": {},
   "outputs": [
    {
     "data": {
      "text/html": [
       "<ol class=list-inline>\n",
       "\t<li>'Demographics'</li>\n",
       "\t<li>'UserDailyAggregation'</li>\n",
       "\t<li>'PokerChipConversions'</li>\n",
       "</ol>\n"
      ],
      "text/latex": [
       "\\begin{enumerate*}\n",
       "\\item 'Demographics'\n",
       "\\item 'UserDailyAggregation'\n",
       "\\item 'PokerChipConversions'\n",
       "\\end{enumerate*}\n"
      ],
      "text/markdown": [
       "1. 'Demographics'\n",
       "2. 'UserDailyAggregation'\n",
       "3. 'PokerChipConversions'\n",
       "\n",
       "\n"
      ],
      "text/plain": [
       "[1] \"Demographics\"         \"UserDailyAggregation\" \"PokerChipConversions\""
      ]
     },
     "metadata": {},
     "output_type": "display_data"
    }
   ],
   "source": [
    "data"
   ]
  },
  {
   "cell_type": "markdown",
   "metadata": {},
   "source": [
    "# data cleaning "
   ]
  },
  {
   "cell_type": "code",
   "execution_count": 4,
   "metadata": {},
   "outputs": [
    {
     "data": {
      "text/html": [
       "<table>\n",
       "<thead><tr><th scope=col>UserID</th><th scope=col>Country</th><th scope=col>Language</th><th scope=col>RegDate</th><th scope=col>FirstPay</th><th scope=col>FirstAct</th><th scope=col>FirstSp</th><th scope=col>FirstCa</th><th scope=col>FirstGa</th><th scope=col>FirstPo</th><th scope=col>ApplicationID</th><th scope=col>Gender</th></tr></thead>\n",
       "<tbody>\n",
       "\t<tr><td>1324354   </td><td>276       </td><td>2         </td><td>2005-02-01</td><td>20050224  </td><td>20050224  </td><td>20050224  </td><td>NULL      </td><td>NULL      </td><td>NULL      </td><td>3         </td><td>1         </td></tr>\n",
       "\t<tr><td>1324355   </td><td>300       </td><td>8         </td><td>2005-02-01</td><td>20050201  </td><td>20050201  </td><td>20050201  </td><td>NULL      </td><td>NULL      </td><td>20050611  </td><td>1         </td><td>1         </td></tr>\n",
       "\t<tr><td>1324356   </td><td>276       </td><td>2         </td><td>2005-02-01</td><td>20050201  </td><td>20050202  </td><td>20050202  </td><td>NULL      </td><td>NULL      </td><td>NULL      </td><td>3         </td><td>1         </td></tr>\n",
       "\t<tr><td>1324358   </td><td>752       </td><td>1         </td><td>2005-02-01</td><td>20050201  </td><td>20050201  </td><td>20050201  </td><td>NULL      </td><td>NULL      </td><td>NULL      </td><td>1         </td><td>1         </td></tr>\n",
       "\t<tr><td>1324360   </td><td>792       </td><td>7         </td><td>2005-02-01</td><td>20050202  </td><td>20050202  </td><td>20050202  </td><td>20050203  </td><td>NULL      </td><td>NULL      </td><td>9         </td><td>1         </td></tr>\n",
       "\t<tr><td>1324362   </td><td>276       </td><td>2         </td><td>2005-02-01</td><td>20050211  </td><td>20050211  </td><td>20050211  </td><td>NULL      </td><td>NULL      </td><td>NULL      </td><td>3         </td><td>1         </td></tr>\n",
       "</tbody>\n",
       "</table>\n"
      ],
      "text/latex": [
       "\\begin{tabular}{r|llllllllllll}\n",
       " UserID & Country & Language & RegDate & FirstPay & FirstAct & FirstSp & FirstCa & FirstGa & FirstPo & ApplicationID & Gender\\\\\n",
       "\\hline\n",
       "\t 1324354    & 276        & 2          & 2005-02-01 & 20050224   & 20050224   & 20050224   & NULL       & NULL       & NULL       & 3          & 1         \\\\\n",
       "\t 1324355    & 300        & 8          & 2005-02-01 & 20050201   & 20050201   & 20050201   & NULL       & NULL       & 20050611   & 1          & 1         \\\\\n",
       "\t 1324356    & 276        & 2          & 2005-02-01 & 20050201   & 20050202   & 20050202   & NULL       & NULL       & NULL       & 3          & 1         \\\\\n",
       "\t 1324358    & 752        & 1          & 2005-02-01 & 20050201   & 20050201   & 20050201   & NULL       & NULL       & NULL       & 1          & 1         \\\\\n",
       "\t 1324360    & 792        & 7          & 2005-02-01 & 20050202   & 20050202   & 20050202   & 20050203   & NULL       & NULL       & 9          & 1         \\\\\n",
       "\t 1324362    & 276        & 2          & 2005-02-01 & 20050211   & 20050211   & 20050211   & NULL       & NULL       & NULL       & 3          & 1         \\\\\n",
       "\\end{tabular}\n"
      ],
      "text/markdown": [
       "\n",
       "| UserID | Country | Language | RegDate | FirstPay | FirstAct | FirstSp | FirstCa | FirstGa | FirstPo | ApplicationID | Gender |\n",
       "|---|---|---|---|---|---|---|---|---|---|---|---|\n",
       "| 1324354    | 276        | 2          | 2005-02-01 | 20050224   | 20050224   | 20050224   | NULL       | NULL       | NULL       | 3          | 1          |\n",
       "| 1324355    | 300        | 8          | 2005-02-01 | 20050201   | 20050201   | 20050201   | NULL       | NULL       | 20050611   | 1          | 1          |\n",
       "| 1324356    | 276        | 2          | 2005-02-01 | 20050201   | 20050202   | 20050202   | NULL       | NULL       | NULL       | 3          | 1          |\n",
       "| 1324358    | 752        | 1          | 2005-02-01 | 20050201   | 20050201   | 20050201   | NULL       | NULL       | NULL       | 1          | 1          |\n",
       "| 1324360    | 792        | 7          | 2005-02-01 | 20050202   | 20050202   | 20050202   | 20050203   | NULL       | NULL       | 9          | 1          |\n",
       "| 1324362    | 276        | 2          | 2005-02-01 | 20050211   | 20050211   | 20050211   | NULL       | NULL       | NULL       | 3          | 1          |\n",
       "\n"
      ],
      "text/plain": [
       "  UserID  Country Language RegDate    FirstPay FirstAct FirstSp  FirstCa \n",
       "1 1324354 276     2        2005-02-01 20050224 20050224 20050224 NULL    \n",
       "2 1324355 300     8        2005-02-01 20050201 20050201 20050201 NULL    \n",
       "3 1324356 276     2        2005-02-01 20050201 20050202 20050202 NULL    \n",
       "4 1324358 752     1        2005-02-01 20050201 20050201 20050201 NULL    \n",
       "5 1324360 792     7        2005-02-01 20050202 20050202 20050202 20050203\n",
       "6 1324362 276     2        2005-02-01 20050211 20050211 20050211 NULL    \n",
       "  FirstGa FirstPo  ApplicationID Gender\n",
       "1 NULL    NULL     3             1     \n",
       "2 NULL    20050611 1             1     \n",
       "3 NULL    NULL     3             1     \n",
       "4 NULL    NULL     1             1     \n",
       "5 NULL    NULL     9             1     \n",
       "6 NULL    NULL     3             1     "
      ]
     },
     "metadata": {},
     "output_type": "display_data"
    }
   ],
   "source": [
    "head(Demographics)"
   ]
  },
  {
   "cell_type": "code",
   "execution_count": 5,
   "metadata": {},
   "outputs": [
    {
     "name": "stdout",
     "output_type": "stream",
     "text": [
      "Classes ‘tbl_df’, ‘tbl’ and 'data.frame':\t42649 obs. of  12 variables:\n",
      " $ UserID       : num  1324354 1324355 1324356 1324358 1324360 ...\n",
      "  ..- attr(*, \"label\")= chr \"User ID\"\n",
      " $ Country      : num  276 300 276 752 792 276 208 276 620 792 ...\n",
      "  ..- attr(*, \"label\")= chr \"Country of residence\"\n",
      " $ Language     : num  2 8 2 1 7 2 11 2 16 7 ...\n",
      "  ..- attr(*, \"label\")= chr \"Primary language\"\n",
      " $ RegDate      : chr  \"2005-02-01\" \"2005-02-01\" \"2005-02-01\" \"2005-02-01\" ...\n",
      "  ..- attr(*, \"label\")= chr \"Registration Date\"\n",
      " $ FirstPay     : chr  \"20050224\" \"20050201\" \"20050201\" \"20050201\" ...\n",
      "  ..- attr(*, \"label\")= chr \"First Payin Date\"\n",
      " $ FirstAct     : chr  \"20050224\" \"20050201\" \"20050202\" \"20050201\" ...\n",
      "  ..- attr(*, \"label\")= chr \"First Active Play Date\"\n",
      " $ FirstSp      : chr  \"20050224\" \"20050201\" \"20050202\" \"20050201\" ...\n",
      "  ..- attr(*, \"label\")= chr \"First Sports Book Play Date\"\n",
      " $ FirstCa      : chr  \"NULL\" \"NULL\" \"NULL\" \"NULL\" ...\n",
      "  ..- attr(*, \"label\")= chr \"First Casino Play Date\"\n",
      " $ FirstGa      : chr  \"NULL\" \"NULL\" \"NULL\" \"NULL\" ...\n",
      "  ..- attr(*, \"label\")= chr \"First Games Play Date\"\n",
      " $ FirstPo      : chr  \"NULL\" \"20050611\" \"NULL\" \"NULL\" ...\n",
      "  ..- attr(*, \"label\")= chr \"First Poker Play Date\"\n",
      " $ ApplicationID: num  3 1 3 1 9 3 1 3 1 9 ...\n",
      "  ..- attr(*, \"label\")= chr \"Application ID\"\n",
      " $ Gender       : num  1 1 1 1 1 1 1 1 1 1 ...\n"
     ]
    }
   ],
   "source": [
    "#check tibble feature types\n",
    "str(Demographics)"
   ]
  },
  {
   "cell_type": "code",
   "execution_count": 6,
   "metadata": {},
   "outputs": [],
   "source": [
    "#convert registration date to date time \n",
    "Demographics$RegDate <- as.Date(Demographics$RegDate)"
   ]
  },
  {
   "cell_type": "code",
   "execution_count": 7,
   "metadata": {},
   "outputs": [
    {
     "name": "stdout",
     "output_type": "stream",
     "text": [
      " Date[1:42649], format: \"2005-02-01\" \"2005-02-01\" \"2005-02-01\" \"2005-02-01\" \"2005-02-01\" ...\n"
     ]
    }
   ],
   "source": [
    "str(Demographics$RegDate)"
   ]
  },
  {
   "cell_type": "code",
   "execution_count": 8,
   "metadata": {},
   "outputs": [],
   "source": [
    "#convert first pay, first act, first sports book play, first casino play,\n",
    "# first games play, and  first poker play dates to datetime.\n",
    "Demographics$FirstPay <- as.Date(Demographics$FirstPay, \"%Y%m%d\")"
   ]
  },
  {
   "cell_type": "code",
   "execution_count": 9,
   "metadata": {},
   "outputs": [],
   "source": [
    "Demographics$FirstAct <- as.Date(Demographics$FirstAct, \"%Y%m%d\")\n",
    "Demographics$FirstSp <- as.Date(Demographics$FirstSp, \"%Y%m%d\")\n",
    "Demographics$FirstCa <- as.Date(Demographics$FirstCa, \"%Y%m%d\")\n",
    "Demographics$FirstGa <- as.Date(Demographics$FirstGa, \"%Y%m%d\")\n",
    "Demographics$FirstPo <- as.Date(Demographics$FirstPo, \"%Y%m%d\")"
   ]
  },
  {
   "cell_type": "code",
   "execution_count": 10,
   "metadata": {},
   "outputs": [
    {
     "name": "stdout",
     "output_type": "stream",
     "text": [
      "Classes ‘tbl_df’, ‘tbl’ and 'data.frame':\t42649 obs. of  12 variables:\n",
      " $ UserID       : num  1324354 1324355 1324356 1324358 1324360 ...\n",
      "  ..- attr(*, \"label\")= chr \"User ID\"\n",
      " $ Country      : num  276 300 276 752 792 276 208 276 620 792 ...\n",
      "  ..- attr(*, \"label\")= chr \"Country of residence\"\n",
      " $ Language     : num  2 8 2 1 7 2 11 2 16 7 ...\n",
      "  ..- attr(*, \"label\")= chr \"Primary language\"\n",
      " $ RegDate      : Date, format: \"2005-02-01\" \"2005-02-01\" ...\n",
      " $ FirstPay     : Date, format: \"2005-02-24\" \"2005-02-01\" ...\n",
      " $ FirstAct     : Date, format: \"2005-02-24\" \"2005-02-01\" ...\n",
      " $ FirstSp      : Date, format: \"2005-02-24\" \"2005-02-01\" ...\n",
      " $ FirstCa      : Date, format: NA NA ...\n",
      " $ FirstGa      : Date, format: NA NA ...\n",
      " $ FirstPo      : Date, format: NA \"2005-06-11\" ...\n",
      " $ ApplicationID: num  3 1 3 1 9 3 1 3 1 9 ...\n",
      "  ..- attr(*, \"label\")= chr \"Application ID\"\n",
      " $ Gender       : num  1 1 1 1 1 1 1 1 1 1 ...\n"
     ]
    }
   ],
   "source": [
    "str(Demographics)"
   ]
  },
  {
   "cell_type": "code",
   "execution_count": 11,
   "metadata": {},
   "outputs": [],
   "source": [
    "#create a cutoff date object\n",
    "october <- as.Date(\"20051002\",\"%Y%m%d\")"
   ]
  },
  {
   "cell_type": "code",
   "execution_count": 12,
   "metadata": {},
   "outputs": [],
   "source": [
    "#calculate LOR (Length of Relation) based on time since \n",
    "#last transaction date in the dataset and the registration date of the \n",
    "#gambler\n",
    "Demographics$LOR <- october - Demographics$RegDate"
   ]
  },
  {
   "cell_type": "code",
   "execution_count": 13,
   "metadata": {},
   "outputs": [],
   "source": [
    "#calculate play to act interval (PTAI)\n",
    "#based on time from FirstPay (first betting deposit date)\n",
    "#and first active date\n",
    "Demographics$PTAI <- Demographics$FirstAct - Demographics$FirstPay"
   ]
  },
  {
   "cell_type": "code",
   "execution_count": 14,
   "metadata": {},
   "outputs": [],
   "source": [
    "#calculate registeration to first pay interval (RTFP)\n",
    "#based on time from gambler registration date to first bet deposit\n",
    "Demographics$RTFP <- Demographics$FirstPay - Demographics$RegDate"
   ]
  },
  {
   "cell_type": "code",
   "execution_count": 15,
   "metadata": {},
   "outputs": [],
   "source": [
    "#calculate dummy variable for each first play category (sports book, casino play,\n",
    "#first games play, first poker play) which indicates whether the indiviual\n",
    "#has ever partook in these play categories\n",
    "Demographics$SpPlayed <- ifelse(is.na(Demographics$FirstSp),1,0)\n",
    "\n",
    "Demographics$CaPlayed <- ifelse(is.na(Demographics$FirstCa),1,0)\n",
    "\n",
    "Demographics$GaPlayed <- ifelse(is.na(Demographics$FirstGa),1,0)\n",
    "Demographics$PoPlayed <- ifelse(is.na(Demographics$FirstPo),1,0)"
   ]
  },
  {
   "cell_type": "code",
   "execution_count": 16,
   "metadata": {},
   "outputs": [
    {
     "data": {
      "text/html": [
       "<table>\n",
       "<thead><tr><th scope=col>UserID</th><th scope=col>Country</th><th scope=col>Language</th><th scope=col>RegDate</th><th scope=col>FirstPay</th><th scope=col>FirstAct</th><th scope=col>FirstSp</th><th scope=col>FirstCa</th><th scope=col>FirstGa</th><th scope=col>FirstPo</th><th scope=col>ApplicationID</th><th scope=col>Gender</th><th scope=col>LOR</th><th scope=col>PTAI</th><th scope=col>RTFP</th><th scope=col>SpPlayed</th><th scope=col>CaPlayed</th><th scope=col>GaPlayed</th><th scope=col>PoPlayed</th></tr></thead>\n",
       "<tbody>\n",
       "\t<tr><td>1324354   </td><td>276       </td><td>2         </td><td>2005-02-01</td><td>2005-02-24</td><td>2005-02-24</td><td>2005-02-24</td><td>NA        </td><td>NA        </td><td>NA        </td><td>3         </td><td>1         </td><td>243 days  </td><td>0 days    </td><td>23 days   </td><td>0         </td><td>1         </td><td>1         </td><td>1         </td></tr>\n",
       "\t<tr><td>1324355   </td><td>300       </td><td>8         </td><td>2005-02-01</td><td>2005-02-01</td><td>2005-02-01</td><td>2005-02-01</td><td>NA        </td><td>NA        </td><td>2005-06-11</td><td>1         </td><td>1         </td><td>243 days  </td><td>0 days    </td><td> 0 days   </td><td>0         </td><td>1         </td><td>1         </td><td>0         </td></tr>\n",
       "\t<tr><td>1324356   </td><td>276       </td><td>2         </td><td>2005-02-01</td><td>2005-02-01</td><td>2005-02-02</td><td>2005-02-02</td><td>NA        </td><td>NA        </td><td>NA        </td><td>3         </td><td>1         </td><td>243 days  </td><td>1 days    </td><td> 0 days   </td><td>0         </td><td>1         </td><td>1         </td><td>1         </td></tr>\n",
       "\t<tr><td>1324358   </td><td>752       </td><td>1         </td><td>2005-02-01</td><td>2005-02-01</td><td>2005-02-01</td><td>2005-02-01</td><td>NA        </td><td>NA        </td><td>NA        </td><td>1         </td><td>1         </td><td>243 days  </td><td>0 days    </td><td> 0 days   </td><td>0         </td><td>1         </td><td>1         </td><td>1         </td></tr>\n",
       "\t<tr><td>1324360   </td><td>792       </td><td>7         </td><td>2005-02-01</td><td>2005-02-02</td><td>2005-02-02</td><td>2005-02-02</td><td>2005-02-03</td><td>NA        </td><td>NA        </td><td>9         </td><td>1         </td><td>243 days  </td><td>0 days    </td><td> 1 days   </td><td>0         </td><td>0         </td><td>1         </td><td>1         </td></tr>\n",
       "\t<tr><td>1324362   </td><td>276       </td><td>2         </td><td>2005-02-01</td><td>2005-02-11</td><td>2005-02-11</td><td>2005-02-11</td><td>NA        </td><td>NA        </td><td>NA        </td><td>3         </td><td>1         </td><td>243 days  </td><td>0 days    </td><td>10 days   </td><td>0         </td><td>1         </td><td>1         </td><td>1         </td></tr>\n",
       "</tbody>\n",
       "</table>\n"
      ],
      "text/latex": [
       "\\begin{tabular}{r|lllllllllllllllllll}\n",
       " UserID & Country & Language & RegDate & FirstPay & FirstAct & FirstSp & FirstCa & FirstGa & FirstPo & ApplicationID & Gender & LOR & PTAI & RTFP & SpPlayed & CaPlayed & GaPlayed & PoPlayed\\\\\n",
       "\\hline\n",
       "\t 1324354    & 276        & 2          & 2005-02-01 & 2005-02-24 & 2005-02-24 & 2005-02-24 & NA         & NA         & NA         & 3          & 1          & 243 days   & 0 days     & 23 days    & 0          & 1          & 1          & 1         \\\\\n",
       "\t 1324355    & 300        & 8          & 2005-02-01 & 2005-02-01 & 2005-02-01 & 2005-02-01 & NA         & NA         & 2005-06-11 & 1          & 1          & 243 days   & 0 days     &  0 days    & 0          & 1          & 1          & 0         \\\\\n",
       "\t 1324356    & 276        & 2          & 2005-02-01 & 2005-02-01 & 2005-02-02 & 2005-02-02 & NA         & NA         & NA         & 3          & 1          & 243 days   & 1 days     &  0 days    & 0          & 1          & 1          & 1         \\\\\n",
       "\t 1324358    & 752        & 1          & 2005-02-01 & 2005-02-01 & 2005-02-01 & 2005-02-01 & NA         & NA         & NA         & 1          & 1          & 243 days   & 0 days     &  0 days    & 0          & 1          & 1          & 1         \\\\\n",
       "\t 1324360    & 792        & 7          & 2005-02-01 & 2005-02-02 & 2005-02-02 & 2005-02-02 & 2005-02-03 & NA         & NA         & 9          & 1          & 243 days   & 0 days     &  1 days    & 0          & 0          & 1          & 1         \\\\\n",
       "\t 1324362    & 276        & 2          & 2005-02-01 & 2005-02-11 & 2005-02-11 & 2005-02-11 & NA         & NA         & NA         & 3          & 1          & 243 days   & 0 days     & 10 days    & 0          & 1          & 1          & 1         \\\\\n",
       "\\end{tabular}\n"
      ],
      "text/markdown": [
       "\n",
       "| UserID | Country | Language | RegDate | FirstPay | FirstAct | FirstSp | FirstCa | FirstGa | FirstPo | ApplicationID | Gender | LOR | PTAI | RTFP | SpPlayed | CaPlayed | GaPlayed | PoPlayed |\n",
       "|---|---|---|---|---|---|---|---|---|---|---|---|---|---|---|---|---|---|---|\n",
       "| 1324354    | 276        | 2          | 2005-02-01 | 2005-02-24 | 2005-02-24 | 2005-02-24 | NA         | NA         | NA         | 3          | 1          | 243 days   | 0 days     | 23 days    | 0          | 1          | 1          | 1          |\n",
       "| 1324355    | 300        | 8          | 2005-02-01 | 2005-02-01 | 2005-02-01 | 2005-02-01 | NA         | NA         | 2005-06-11 | 1          | 1          | 243 days   | 0 days     |  0 days    | 0          | 1          | 1          | 0          |\n",
       "| 1324356    | 276        | 2          | 2005-02-01 | 2005-02-01 | 2005-02-02 | 2005-02-02 | NA         | NA         | NA         | 3          | 1          | 243 days   | 1 days     |  0 days    | 0          | 1          | 1          | 1          |\n",
       "| 1324358    | 752        | 1          | 2005-02-01 | 2005-02-01 | 2005-02-01 | 2005-02-01 | NA         | NA         | NA         | 1          | 1          | 243 days   | 0 days     |  0 days    | 0          | 1          | 1          | 1          |\n",
       "| 1324360    | 792        | 7          | 2005-02-01 | 2005-02-02 | 2005-02-02 | 2005-02-02 | 2005-02-03 | NA         | NA         | 9          | 1          | 243 days   | 0 days     |  1 days    | 0          | 0          | 1          | 1          |\n",
       "| 1324362    | 276        | 2          | 2005-02-01 | 2005-02-11 | 2005-02-11 | 2005-02-11 | NA         | NA         | NA         | 3          | 1          | 243 days   | 0 days     | 10 days    | 0          | 1          | 1          | 1          |\n",
       "\n"
      ],
      "text/plain": [
       "  UserID  Country Language RegDate    FirstPay   FirstAct   FirstSp   \n",
       "1 1324354 276     2        2005-02-01 2005-02-24 2005-02-24 2005-02-24\n",
       "2 1324355 300     8        2005-02-01 2005-02-01 2005-02-01 2005-02-01\n",
       "3 1324356 276     2        2005-02-01 2005-02-01 2005-02-02 2005-02-02\n",
       "4 1324358 752     1        2005-02-01 2005-02-01 2005-02-01 2005-02-01\n",
       "5 1324360 792     7        2005-02-01 2005-02-02 2005-02-02 2005-02-02\n",
       "6 1324362 276     2        2005-02-01 2005-02-11 2005-02-11 2005-02-11\n",
       "  FirstCa    FirstGa FirstPo    ApplicationID Gender LOR      PTAI   RTFP   \n",
       "1 <NA>       <NA>    <NA>       3             1      243 days 0 days 23 days\n",
       "2 <NA>       <NA>    2005-06-11 1             1      243 days 0 days  0 days\n",
       "3 <NA>       <NA>    <NA>       3             1      243 days 1 days  0 days\n",
       "4 <NA>       <NA>    <NA>       1             1      243 days 0 days  0 days\n",
       "5 2005-02-03 <NA>    <NA>       9             1      243 days 0 days  1 days\n",
       "6 <NA>       <NA>    <NA>       3             1      243 days 0 days 10 days\n",
       "  SpPlayed CaPlayed GaPlayed PoPlayed\n",
       "1 0        1        1        1       \n",
       "2 0        1        1        0       \n",
       "3 0        1        1        1       \n",
       "4 0        1        1        1       \n",
       "5 0        0        1        1       \n",
       "6 0        1        1        1       "
      ]
     },
     "metadata": {},
     "output_type": "display_data"
    }
   ],
   "source": [
    "head(Demographics)"
   ]
  },
  {
   "cell_type": "code",
   "execution_count": 20,
   "metadata": {},
   "outputs": [],
   "source": [
    "UserDailyAggregation$Date <- as.Date(UserDailyAggregation$Date,\"%Y%m%d\")"
   ]
  },
  {
   "cell_type": "code",
   "execution_count": 23,
   "metadata": {},
   "outputs": [
    {
     "data": {
      "text/html": [
       "0"
      ],
      "text/latex": [
       "0"
      ],
      "text/markdown": [
       "0"
      ],
      "text/plain": [
       "[1] 0"
      ]
     },
     "metadata": {},
     "output_type": "display_data"
    }
   ],
   "source": [
    "sum(is.na(UserDailyAggregation))"
   ]
  },
  {
   "cell_type": "code",
   "execution_count": 24,
   "metadata": {},
   "outputs": [
    {
     "data": {
      "text/html": [
       "<table>\n",
       "<thead><tr><th scope=col>UserID</th><th scope=col>Date</th><th scope=col>ProductID</th><th scope=col>Stakes</th><th scope=col>Winnings</th><th scope=col>Bets</th></tr></thead>\n",
       "<tbody>\n",
       "\t<tr><td>1324354   </td><td>2005-02-24</td><td>1         </td><td>20        </td><td>0         </td><td>2         </td></tr>\n",
       "\t<tr><td>1324354   </td><td>2005-02-25</td><td>1         </td><td> 0        </td><td>0         </td><td>0         </td></tr>\n",
       "\t<tr><td>1324354   </td><td>2005-02-27</td><td>1         </td><td>20        </td><td>0         </td><td>2         </td></tr>\n",
       "\t<tr><td>1324354   </td><td>2005-03-03</td><td>1         </td><td>10        </td><td>0         </td><td>1         </td></tr>\n",
       "\t<tr><td>1324354   </td><td>2005-03-04</td><td>1         </td><td>10        </td><td>0         </td><td>1         </td></tr>\n",
       "\t<tr><td>1324354   </td><td>2005-03-05</td><td>1         </td><td>10        </td><td>0         </td><td>1         </td></tr>\n",
       "</tbody>\n",
       "</table>\n"
      ],
      "text/latex": [
       "\\begin{tabular}{r|llllll}\n",
       " UserID & Date & ProductID & Stakes & Winnings & Bets\\\\\n",
       "\\hline\n",
       "\t 1324354    & 2005-02-24 & 1          & 20         & 0          & 2         \\\\\n",
       "\t 1324354    & 2005-02-25 & 1          &  0         & 0          & 0         \\\\\n",
       "\t 1324354    & 2005-02-27 & 1          & 20         & 0          & 2         \\\\\n",
       "\t 1324354    & 2005-03-03 & 1          & 10         & 0          & 1         \\\\\n",
       "\t 1324354    & 2005-03-04 & 1          & 10         & 0          & 1         \\\\\n",
       "\t 1324354    & 2005-03-05 & 1          & 10         & 0          & 1         \\\\\n",
       "\\end{tabular}\n"
      ],
      "text/markdown": [
       "\n",
       "| UserID | Date | ProductID | Stakes | Winnings | Bets |\n",
       "|---|---|---|---|---|---|\n",
       "| 1324354    | 2005-02-24 | 1          | 20         | 0          | 2          |\n",
       "| 1324354    | 2005-02-25 | 1          |  0         | 0          | 0          |\n",
       "| 1324354    | 2005-02-27 | 1          | 20         | 0          | 2          |\n",
       "| 1324354    | 2005-03-03 | 1          | 10         | 0          | 1          |\n",
       "| 1324354    | 2005-03-04 | 1          | 10         | 0          | 1          |\n",
       "| 1324354    | 2005-03-05 | 1          | 10         | 0          | 1          |\n",
       "\n"
      ],
      "text/plain": [
       "  UserID  Date       ProductID Stakes Winnings Bets\n",
       "1 1324354 2005-02-24 1         20     0        2   \n",
       "2 1324354 2005-02-25 1          0     0        0   \n",
       "3 1324354 2005-02-27 1         20     0        2   \n",
       "4 1324354 2005-03-03 1         10     0        1   \n",
       "5 1324354 2005-03-04 1         10     0        1   \n",
       "6 1324354 2005-03-05 1         10     0        1   "
      ]
     },
     "metadata": {},
     "output_type": "display_data"
    }
   ],
   "source": [
    "head(UserDailyAggregation)"
   ]
  },
  {
   "cell_type": "code",
   "execution_count": 76,
   "metadata": {},
   "outputs": [],
   "source": [
    "UserDailyAggregation_1 <- UserDailyAggregation %>% \n",
    "        group_by(UserID) %>% \n",
    "        summarise(first_txn_dt=min(Date),\n",
    "                  last_txn_dt=max(Date), \n",
    "                  txn_cnt=n(), \n",
    "                  total_stakes=round(sum(Stakes)), \n",
    "                  total_wins=round(sum(Winnings)), \n",
    "                  total_bets=round(sum(Bets)), \n",
    "                  avg_stakes=round(mean(Stakes)), \n",
    "                  avg_wins=round(mean(Winnings)), \n",
    "                  avg_bets=round(mean(Bets)))"
   ]
  },
  {
   "cell_type": "code",
   "execution_count": null,
   "metadata": {},
   "outputs": [
    {
     "data": {
      "text/html": [
       "<table>\n",
       "<thead><tr><th scope=col>UserID</th><th scope=col>first_txn_dt</th><th scope=col>last_txn_dt</th><th scope=col>txn_cnt</th><th scope=col>total_stakes</th><th scope=col>total_wins</th><th scope=col>total_bets</th><th scope=col>avg_stakes</th><th scope=col>avg_wins</th><th scope=col>avg_bets</th></tr></thead>\n",
       "<tbody>\n",
       "\t<tr><td>1324354   </td><td>2005-02-24</td><td>2005-09-30</td><td>136       </td><td>11977     </td><td>11737     </td><td>279       </td><td>88        </td><td>86        </td><td>2         </td></tr>\n",
       "\t<tr><td>1324355   </td><td>2005-02-01</td><td>2005-09-29</td><td>106       </td><td>  426     </td><td>  464     </td><td>252       </td><td> 4        </td><td> 4        </td><td>2         </td></tr>\n",
       "\t<tr><td>1324356   </td><td>2005-02-02</td><td>2005-09-12</td><td> 75       </td><td> 1365     </td><td>  911     </td><td>214       </td><td>18        </td><td>12        </td><td>3         </td></tr>\n",
       "\t<tr><td>1324358   </td><td>2005-02-01</td><td>2005-05-06</td><td>  9       </td><td>  336     </td><td>  210     </td><td> 11       </td><td>37        </td><td>23        </td><td>1         </td></tr>\n",
       "\t<tr><td>1324360   </td><td>2005-02-02</td><td>2005-09-25</td><td> 32       </td><td>   66     </td><td>   43     </td><td> 47       </td><td> 2        </td><td> 1        </td><td>1         </td></tr>\n",
       "\t<tr><td>1324362   </td><td>2005-02-11</td><td>2005-09-17</td><td>  7       </td><td>   22     </td><td>    0     </td><td>  7       </td><td> 3        </td><td> 0        </td><td>1         </td></tr>\n",
       "</tbody>\n",
       "</table>\n"
      ],
      "text/latex": [
       "\\begin{tabular}{r|llllllllll}\n",
       " UserID & first\\_txn\\_dt & last\\_txn\\_dt & txn\\_cnt & total\\_stakes & total\\_wins & total\\_bets & avg\\_stakes & avg\\_wins & avg\\_bets\\\\\n",
       "\\hline\n",
       "\t 1324354    & 2005-02-24 & 2005-09-30 & 136        & 11977      & 11737      & 279        & 88         & 86         & 2         \\\\\n",
       "\t 1324355    & 2005-02-01 & 2005-09-29 & 106        &   426      &   464      & 252        &  4         &  4         & 2         \\\\\n",
       "\t 1324356    & 2005-02-02 & 2005-09-12 &  75        &  1365      &   911      & 214        & 18         & 12         & 3         \\\\\n",
       "\t 1324358    & 2005-02-01 & 2005-05-06 &   9        &   336      &   210      &  11        & 37         & 23         & 1         \\\\\n",
       "\t 1324360    & 2005-02-02 & 2005-09-25 &  32        &    66      &    43      &  47        &  2         &  1         & 1         \\\\\n",
       "\t 1324362    & 2005-02-11 & 2005-09-17 &   7        &    22      &     0      &   7        &  3         &  0         & 1         \\\\\n",
       "\\end{tabular}\n"
      ],
      "text/markdown": [
       "\n",
       "| UserID | first_txn_dt | last_txn_dt | txn_cnt | total_stakes | total_wins | total_bets | avg_stakes | avg_wins | avg_bets |\n",
       "|---|---|---|---|---|---|---|---|---|---|\n",
       "| 1324354    | 2005-02-24 | 2005-09-30 | 136        | 11977      | 11737      | 279        | 88         | 86         | 2          |\n",
       "| 1324355    | 2005-02-01 | 2005-09-29 | 106        |   426      |   464      | 252        |  4         |  4         | 2          |\n",
       "| 1324356    | 2005-02-02 | 2005-09-12 |  75        |  1365      |   911      | 214        | 18         | 12         | 3          |\n",
       "| 1324358    | 2005-02-01 | 2005-05-06 |   9        |   336      |   210      |  11        | 37         | 23         | 1          |\n",
       "| 1324360    | 2005-02-02 | 2005-09-25 |  32        |    66      |    43      |  47        |  2         |  1         | 1          |\n",
       "| 1324362    | 2005-02-11 | 2005-09-17 |   7        |    22      |     0      |   7        |  3         |  0         | 1          |\n",
       "\n"
      ],
      "text/plain": [
       "  UserID  first_txn_dt last_txn_dt txn_cnt total_stakes total_wins total_bets\n",
       "1 1324354 2005-02-24   2005-09-30  136     11977        11737      279       \n",
       "2 1324355 2005-02-01   2005-09-29  106       426          464      252       \n",
       "3 1324356 2005-02-02   2005-09-12   75      1365          911      214       \n",
       "4 1324358 2005-02-01   2005-05-06    9       336          210       11       \n",
       "5 1324360 2005-02-02   2005-09-25   32        66           43       47       \n",
       "6 1324362 2005-02-11   2005-09-17    7        22            0        7       \n",
       "  avg_stakes avg_wins avg_bets\n",
       "1 88         86       2       \n",
       "2  4          4       2       \n",
       "3 18         12       3       \n",
       "4 37         23       1       \n",
       "5  2          1       1       \n",
       "6  3          0       1       "
      ]
     },
     "metadata": {},
     "output_type": "display_data"
    }
   ],
   "source": [
    "head(UserDailyAggregation_1)"
   ]
  },
  {
   "cell_type": "code",
   "execution_count": 87,
   "metadata": {},
   "outputs": [
    {
     "data": {
      "text/html": [
       "<table>\n",
       "<thead><tr><th scope=col>ProductID</th></tr></thead>\n",
       "<tbody>\n",
       "\t<tr><td>1</td></tr>\n",
       "\t<tr><td>2</td></tr>\n",
       "\t<tr><td>4</td></tr>\n",
       "\t<tr><td>5</td></tr>\n",
       "\t<tr><td>6</td></tr>\n",
       "\t<tr><td>7</td></tr>\n",
       "\t<tr><td>8</td></tr>\n",
       "</tbody>\n",
       "</table>\n"
      ],
      "text/latex": [
       "\\begin{tabular}{r|l}\n",
       " ProductID\\\\\n",
       "\\hline\n",
       "\t 1\\\\\n",
       "\t 2\\\\\n",
       "\t 4\\\\\n",
       "\t 5\\\\\n",
       "\t 6\\\\\n",
       "\t 7\\\\\n",
       "\t 8\\\\\n",
       "\\end{tabular}\n"
      ],
      "text/markdown": [
       "\n",
       "| ProductID |\n",
       "|---|\n",
       "| 1 |\n",
       "| 2 |\n",
       "| 4 |\n",
       "| 5 |\n",
       "| 6 |\n",
       "| 7 |\n",
       "| 8 |\n",
       "\n"
      ],
      "text/plain": [
       "  ProductID\n",
       "1 1        \n",
       "2 2        \n",
       "3 4        \n",
       "4 5        \n",
       "5 6        \n",
       "6 7        \n",
       "7 8        "
      ]
     },
     "metadata": {},
     "output_type": "display_data"
    }
   ],
   "source": [
    "p_id <- unique(UserDailyAggregation[c(\"ProductID\")])\n",
    "p_id[order(p_id$ProductID),]"
   ]
  },
  {
   "cell_type": "code",
   "execution_count": 92,
   "metadata": {},
   "outputs": [],
   "source": [
    "# Making a new dataframe with number of transactions per UserID in the given period\n",
    "UserDailyAggregation_2 <- UserDailyAggregation %>% \n",
    "                group_by(UserID) %>% \n",
    "                summarise(procuct_1_cnt=length(ProductID[ProductID == 1]),\n",
    "                product_2_cnt=length(ProductID[ProductID == 2]),\n",
    "                product_4_cnt=length(ProductID[ProductID == 4]),\n",
    "                product_5_cnt=length(ProductID[ProductID == 5]),\n",
    "                product_6_cnt=length(ProductID[ProductID == 6]),\n",
    "                product_7_cnt=length(ProductID[ProductID == 7]),\n",
    "                product_8_cnt=length(ProductID[ProductID == 8])\n",
    "                )"
   ]
  },
  {
   "cell_type": "code",
   "execution_count": 93,
   "metadata": {},
   "outputs": [
    {
     "data": {
      "text/html": [
       "<table>\n",
       "<thead><tr><th scope=col>UserID</th><th scope=col>procuct_1_cnt</th><th scope=col>product_2_cnt</th><th scope=col>product_4_cnt</th><th scope=col>product_5_cnt</th><th scope=col>product_6_cnt</th><th scope=col>product_7_cnt</th><th scope=col>product_8_cnt</th></tr></thead>\n",
       "<tbody>\n",
       "\t<tr><td>1324354</td><td>117    </td><td>19     </td><td>0      </td><td>0      </td><td>0      </td><td>0      </td><td>0      </td></tr>\n",
       "\t<tr><td>1324355</td><td> 99    </td><td> 7     </td><td>0      </td><td>0      </td><td>0      </td><td>0      </td><td>0      </td></tr>\n",
       "\t<tr><td>1324356</td><td> 51    </td><td>24     </td><td>0      </td><td>0      </td><td>0      </td><td>0      </td><td>0      </td></tr>\n",
       "\t<tr><td>1324358</td><td>  8    </td><td> 1     </td><td>0      </td><td>0      </td><td>0      </td><td>0      </td><td>0      </td></tr>\n",
       "\t<tr><td>1324360</td><td> 29    </td><td> 2     </td><td>0      </td><td>0      </td><td>0      </td><td>0      </td><td>1      </td></tr>\n",
       "\t<tr><td>1324362</td><td>  7    </td><td> 0     </td><td>0      </td><td>0      </td><td>0      </td><td>0      </td><td>0      </td></tr>\n",
       "</tbody>\n",
       "</table>\n"
      ],
      "text/latex": [
       "\\begin{tabular}{r|llllllll}\n",
       " UserID & procuct\\_1\\_cnt & product\\_2\\_cnt & product\\_4\\_cnt & product\\_5\\_cnt & product\\_6\\_cnt & product\\_7\\_cnt & product\\_8\\_cnt\\\\\n",
       "\\hline\n",
       "\t 1324354 & 117     & 19      & 0       & 0       & 0       & 0       & 0      \\\\\n",
       "\t 1324355 &  99     &  7      & 0       & 0       & 0       & 0       & 0      \\\\\n",
       "\t 1324356 &  51     & 24      & 0       & 0       & 0       & 0       & 0      \\\\\n",
       "\t 1324358 &   8     &  1      & 0       & 0       & 0       & 0       & 0      \\\\\n",
       "\t 1324360 &  29     &  2      & 0       & 0       & 0       & 0       & 1      \\\\\n",
       "\t 1324362 &   7     &  0      & 0       & 0       & 0       & 0       & 0      \\\\\n",
       "\\end{tabular}\n"
      ],
      "text/markdown": [
       "\n",
       "| UserID | procuct_1_cnt | product_2_cnt | product_4_cnt | product_5_cnt | product_6_cnt | product_7_cnt | product_8_cnt |\n",
       "|---|---|---|---|---|---|---|---|\n",
       "| 1324354 | 117     | 19      | 0       | 0       | 0       | 0       | 0       |\n",
       "| 1324355 |  99     |  7      | 0       | 0       | 0       | 0       | 0       |\n",
       "| 1324356 |  51     | 24      | 0       | 0       | 0       | 0       | 0       |\n",
       "| 1324358 |   8     |  1      | 0       | 0       | 0       | 0       | 0       |\n",
       "| 1324360 |  29     |  2      | 0       | 0       | 0       | 0       | 1       |\n",
       "| 1324362 |   7     |  0      | 0       | 0       | 0       | 0       | 0       |\n",
       "\n"
      ],
      "text/plain": [
       "  UserID  procuct_1_cnt product_2_cnt product_4_cnt product_5_cnt product_6_cnt\n",
       "1 1324354 117           19            0             0             0            \n",
       "2 1324355  99            7            0             0             0            \n",
       "3 1324356  51           24            0             0             0            \n",
       "4 1324358   8            1            0             0             0            \n",
       "5 1324360  29            2            0             0             0            \n",
       "6 1324362   7            0            0             0             0            \n",
       "  product_7_cnt product_8_cnt\n",
       "1 0             0            \n",
       "2 0             0            \n",
       "3 0             0            \n",
       "4 0             0            \n",
       "5 0             1            \n",
       "6 0             0            "
      ]
     },
     "metadata": {},
     "output_type": "display_data"
    }
   ],
   "source": [
    "head(UserDailyAggregation_2)"
   ]
  },
  {
   "cell_type": "code",
   "execution_count": 30,
   "metadata": {},
   "outputs": [
    {
     "data": {
      "text/html": [
       "<dl class=dl-horizontal>\n",
       "\t<dt>UserID</dt>\n",
       "\t\t<dd>0</dd>\n",
       "\t<dt>first_txn_dt</dt>\n",
       "\t\t<dd>0</dd>\n",
       "\t<dt>last_txn_dt</dt>\n",
       "\t\t<dd>0</dd>\n",
       "\t<dt>txn_cnt</dt>\n",
       "\t\t<dd>0</dd>\n",
       "\t<dt>total_stakes</dt>\n",
       "\t\t<dd>0</dd>\n",
       "\t<dt>total_wins</dt>\n",
       "\t\t<dd>0</dd>\n",
       "\t<dt>total_bets</dt>\n",
       "\t\t<dd>0</dd>\n",
       "\t<dt>avg_stakes</dt>\n",
       "\t\t<dd>0</dd>\n",
       "\t<dt>avg_wins</dt>\n",
       "\t\t<dd>0</dd>\n",
       "\t<dt>avg_bets</dt>\n",
       "\t\t<dd>0</dd>\n",
       "</dl>\n"
      ],
      "text/latex": [
       "\\begin{description*}\n",
       "\\item[UserID] 0\n",
       "\\item[first\\textbackslash{}\\_txn\\textbackslash{}\\_dt] 0\n",
       "\\item[last\\textbackslash{}\\_txn\\textbackslash{}\\_dt] 0\n",
       "\\item[txn\\textbackslash{}\\_cnt] 0\n",
       "\\item[total\\textbackslash{}\\_stakes] 0\n",
       "\\item[total\\textbackslash{}\\_wins] 0\n",
       "\\item[total\\textbackslash{}\\_bets] 0\n",
       "\\item[avg\\textbackslash{}\\_stakes] 0\n",
       "\\item[avg\\textbackslash{}\\_wins] 0\n",
       "\\item[avg\\textbackslash{}\\_bets] 0\n",
       "\\end{description*}\n"
      ],
      "text/markdown": [
       "UserID\n",
       ":   0first_txn_dt\n",
       ":   0last_txn_dt\n",
       ":   0txn_cnt\n",
       ":   0total_stakes\n",
       ":   0total_wins\n",
       ":   0total_bets\n",
       ":   0avg_stakes\n",
       ":   0avg_wins\n",
       ":   0avg_bets\n",
       ":   0\n",
       "\n"
      ],
      "text/plain": [
       "      UserID first_txn_dt  last_txn_dt      txn_cnt total_stakes   total_wins \n",
       "           0            0            0            0            0            0 \n",
       "  total_bets   avg_stakes     avg_wins     avg_bets \n",
       "           0            0            0            0 "
      ]
     },
     "metadata": {},
     "output_type": "display_data"
    }
   ],
   "source": [
    "sapply(UserDailyAggregation_1,function(x) sum(is.na(x)))"
   ]
  },
  {
   "cell_type": "code",
   "execution_count": 32,
   "metadata": {},
   "outputs": [
    {
     "data": {
      "text/html": [
       "<table>\n",
       "<thead><tr><th scope=col>UserID</th><th scope=col>Date</th><th scope=col>ProductID</th><th scope=col>Stakes</th><th scope=col>Winnings</th><th scope=col>Bets</th></tr></thead>\n",
       "<tbody>\n",
       "\t<tr><td>1324354   </td><td>2005-02-24</td><td>1         </td><td>20        </td><td>0         </td><td>2         </td></tr>\n",
       "\t<tr><td>1324354   </td><td>2005-02-25</td><td>1         </td><td> 0        </td><td>0         </td><td>0         </td></tr>\n",
       "\t<tr><td>1324354   </td><td>2005-02-27</td><td>1         </td><td>20        </td><td>0         </td><td>2         </td></tr>\n",
       "\t<tr><td>1324354   </td><td>2005-03-03</td><td>1         </td><td>10        </td><td>0         </td><td>1         </td></tr>\n",
       "\t<tr><td>1324354   </td><td>2005-03-04</td><td>1         </td><td>10        </td><td>0         </td><td>1         </td></tr>\n",
       "\t<tr><td>1324354   </td><td>2005-03-05</td><td>1         </td><td>10        </td><td>0         </td><td>1         </td></tr>\n",
       "</tbody>\n",
       "</table>\n"
      ],
      "text/latex": [
       "\\begin{tabular}{r|llllll}\n",
       " UserID & Date & ProductID & Stakes & Winnings & Bets\\\\\n",
       "\\hline\n",
       "\t 1324354    & 2005-02-24 & 1          & 20         & 0          & 2         \\\\\n",
       "\t 1324354    & 2005-02-25 & 1          &  0         & 0          & 0         \\\\\n",
       "\t 1324354    & 2005-02-27 & 1          & 20         & 0          & 2         \\\\\n",
       "\t 1324354    & 2005-03-03 & 1          & 10         & 0          & 1         \\\\\n",
       "\t 1324354    & 2005-03-04 & 1          & 10         & 0          & 1         \\\\\n",
       "\t 1324354    & 2005-03-05 & 1          & 10         & 0          & 1         \\\\\n",
       "\\end{tabular}\n"
      ],
      "text/markdown": [
       "\n",
       "| UserID | Date | ProductID | Stakes | Winnings | Bets |\n",
       "|---|---|---|---|---|---|\n",
       "| 1324354    | 2005-02-24 | 1          | 20         | 0          | 2          |\n",
       "| 1324354    | 2005-02-25 | 1          |  0         | 0          | 0          |\n",
       "| 1324354    | 2005-02-27 | 1          | 20         | 0          | 2          |\n",
       "| 1324354    | 2005-03-03 | 1          | 10         | 0          | 1          |\n",
       "| 1324354    | 2005-03-04 | 1          | 10         | 0          | 1          |\n",
       "| 1324354    | 2005-03-05 | 1          | 10         | 0          | 1          |\n",
       "\n"
      ],
      "text/plain": [
       "  UserID  Date       ProductID Stakes Winnings Bets\n",
       "1 1324354 2005-02-24 1         20     0        2   \n",
       "2 1324354 2005-02-25 1          0     0        0   \n",
       "3 1324354 2005-02-27 1         20     0        2   \n",
       "4 1324354 2005-03-03 1         10     0        1   \n",
       "5 1324354 2005-03-04 1         10     0        1   \n",
       "6 1324354 2005-03-05 1         10     0        1   "
      ]
     },
     "metadata": {},
     "output_type": "display_data"
    }
   ],
   "source": [
    "head(UserDailyAggregation)"
   ]
  },
  {
   "cell_type": "code",
   "execution_count": 95,
   "metadata": {},
   "outputs": [],
   "source": [
    "uda_cleaned <- merge(x = UserDailyAggregation_1, y = UserDailyAggregation_2, by = \"UserID\", all.x = TRUE)"
   ]
  },
  {
   "cell_type": "code",
   "execution_count": 97,
   "metadata": {},
   "outputs": [
    {
     "data": {
      "text/html": [
       "<table>\n",
       "<thead><tr><th scope=col>UserID</th><th scope=col>first_txn_dt</th><th scope=col>last_txn_dt</th><th scope=col>txn_cnt</th><th scope=col>total_stakes</th><th scope=col>total_wins</th><th scope=col>total_bets</th><th scope=col>avg_stakes</th><th scope=col>avg_wins</th><th scope=col>avg_bets</th><th scope=col>procuct_1_cnt</th><th scope=col>product_2_cnt</th><th scope=col>product_4_cnt</th><th scope=col>product_5_cnt</th><th scope=col>product_6_cnt</th><th scope=col>product_7_cnt</th><th scope=col>product_8_cnt</th></tr></thead>\n",
       "<tbody>\n",
       "\t<tr><td>1324354   </td><td>2005-02-24</td><td>2005-09-30</td><td>136       </td><td>11977     </td><td>11737     </td><td>279       </td><td>88        </td><td>86        </td><td>2         </td><td>117       </td><td>19        </td><td>0         </td><td>0         </td><td>0         </td><td>0         </td><td>0         </td></tr>\n",
       "\t<tr><td>1324355   </td><td>2005-02-01</td><td>2005-09-29</td><td>106       </td><td>  426     </td><td>  464     </td><td>252       </td><td> 4        </td><td> 4        </td><td>2         </td><td> 99       </td><td> 7        </td><td>0         </td><td>0         </td><td>0         </td><td>0         </td><td>0         </td></tr>\n",
       "\t<tr><td>1324356   </td><td>2005-02-02</td><td>2005-09-12</td><td> 75       </td><td> 1365     </td><td>  911     </td><td>214       </td><td>18        </td><td>12        </td><td>3         </td><td> 51       </td><td>24        </td><td>0         </td><td>0         </td><td>0         </td><td>0         </td><td>0         </td></tr>\n",
       "\t<tr><td>1324358   </td><td>2005-02-01</td><td>2005-05-06</td><td>  9       </td><td>  336     </td><td>  210     </td><td> 11       </td><td>37        </td><td>23        </td><td>1         </td><td>  8       </td><td> 1        </td><td>0         </td><td>0         </td><td>0         </td><td>0         </td><td>0         </td></tr>\n",
       "\t<tr><td>1324360   </td><td>2005-02-02</td><td>2005-09-25</td><td> 32       </td><td>   66     </td><td>   43     </td><td> 47       </td><td> 2        </td><td> 1        </td><td>1         </td><td> 29       </td><td> 2        </td><td>0         </td><td>0         </td><td>0         </td><td>0         </td><td>1         </td></tr>\n",
       "\t<tr><td>1324362   </td><td>2005-02-11</td><td>2005-09-17</td><td>  7       </td><td>   22     </td><td>    0     </td><td>  7       </td><td> 3        </td><td> 0        </td><td>1         </td><td>  7       </td><td> 0        </td><td>0         </td><td>0         </td><td>0         </td><td>0         </td><td>0         </td></tr>\n",
       "</tbody>\n",
       "</table>\n"
      ],
      "text/latex": [
       "\\begin{tabular}{r|lllllllllllllllll}\n",
       " UserID & first\\_txn\\_dt & last\\_txn\\_dt & txn\\_cnt & total\\_stakes & total\\_wins & total\\_bets & avg\\_stakes & avg\\_wins & avg\\_bets & procuct\\_1\\_cnt & product\\_2\\_cnt & product\\_4\\_cnt & product\\_5\\_cnt & product\\_6\\_cnt & product\\_7\\_cnt & product\\_8\\_cnt\\\\\n",
       "\\hline\n",
       "\t 1324354    & 2005-02-24 & 2005-09-30 & 136        & 11977      & 11737      & 279        & 88         & 86         & 2          & 117        & 19         & 0          & 0          & 0          & 0          & 0         \\\\\n",
       "\t 1324355    & 2005-02-01 & 2005-09-29 & 106        &   426      &   464      & 252        &  4         &  4         & 2          &  99        &  7         & 0          & 0          & 0          & 0          & 0         \\\\\n",
       "\t 1324356    & 2005-02-02 & 2005-09-12 &  75        &  1365      &   911      & 214        & 18         & 12         & 3          &  51        & 24         & 0          & 0          & 0          & 0          & 0         \\\\\n",
       "\t 1324358    & 2005-02-01 & 2005-05-06 &   9        &   336      &   210      &  11        & 37         & 23         & 1          &   8        &  1         & 0          & 0          & 0          & 0          & 0         \\\\\n",
       "\t 1324360    & 2005-02-02 & 2005-09-25 &  32        &    66      &    43      &  47        &  2         &  1         & 1          &  29        &  2         & 0          & 0          & 0          & 0          & 1         \\\\\n",
       "\t 1324362    & 2005-02-11 & 2005-09-17 &   7        &    22      &     0      &   7        &  3         &  0         & 1          &   7        &  0         & 0          & 0          & 0          & 0          & 0         \\\\\n",
       "\\end{tabular}\n"
      ],
      "text/markdown": [
       "\n",
       "| UserID | first_txn_dt | last_txn_dt | txn_cnt | total_stakes | total_wins | total_bets | avg_stakes | avg_wins | avg_bets | procuct_1_cnt | product_2_cnt | product_4_cnt | product_5_cnt | product_6_cnt | product_7_cnt | product_8_cnt |\n",
       "|---|---|---|---|---|---|---|---|---|---|---|---|---|---|---|---|---|\n",
       "| 1324354    | 2005-02-24 | 2005-09-30 | 136        | 11977      | 11737      | 279        | 88         | 86         | 2          | 117        | 19         | 0          | 0          | 0          | 0          | 0          |\n",
       "| 1324355    | 2005-02-01 | 2005-09-29 | 106        |   426      |   464      | 252        |  4         |  4         | 2          |  99        |  7         | 0          | 0          | 0          | 0          | 0          |\n",
       "| 1324356    | 2005-02-02 | 2005-09-12 |  75        |  1365      |   911      | 214        | 18         | 12         | 3          |  51        | 24         | 0          | 0          | 0          | 0          | 0          |\n",
       "| 1324358    | 2005-02-01 | 2005-05-06 |   9        |   336      |   210      |  11        | 37         | 23         | 1          |   8        |  1         | 0          | 0          | 0          | 0          | 0          |\n",
       "| 1324360    | 2005-02-02 | 2005-09-25 |  32        |    66      |    43      |  47        |  2         |  1         | 1          |  29        |  2         | 0          | 0          | 0          | 0          | 1          |\n",
       "| 1324362    | 2005-02-11 | 2005-09-17 |   7        |    22      |     0      |   7        |  3         |  0         | 1          |   7        |  0         | 0          | 0          | 0          | 0          | 0          |\n",
       "\n"
      ],
      "text/plain": [
       "  UserID  first_txn_dt last_txn_dt txn_cnt total_stakes total_wins total_bets\n",
       "1 1324354 2005-02-24   2005-09-30  136     11977        11737      279       \n",
       "2 1324355 2005-02-01   2005-09-29  106       426          464      252       \n",
       "3 1324356 2005-02-02   2005-09-12   75      1365          911      214       \n",
       "4 1324358 2005-02-01   2005-05-06    9       336          210       11       \n",
       "5 1324360 2005-02-02   2005-09-25   32        66           43       47       \n",
       "6 1324362 2005-02-11   2005-09-17    7        22            0        7       \n",
       "  avg_stakes avg_wins avg_bets procuct_1_cnt product_2_cnt product_4_cnt\n",
       "1 88         86       2        117           19            0            \n",
       "2  4          4       2         99            7            0            \n",
       "3 18         12       3         51           24            0            \n",
       "4 37         23       1          8            1            0            \n",
       "5  2          1       1         29            2            0            \n",
       "6  3          0       1          7            0            0            \n",
       "  product_5_cnt product_6_cnt product_7_cnt product_8_cnt\n",
       "1 0             0             0             0            \n",
       "2 0             0             0             0            \n",
       "3 0             0             0             0            \n",
       "4 0             0             0             0            \n",
       "5 0             0             0             1            \n",
       "6 0             0             0             0            "
      ]
     },
     "metadata": {},
     "output_type": "display_data"
    }
   ],
   "source": [
    "head(uda_cleaned)"
   ]
  },
  {
   "cell_type": "code",
   "execution_count": 99,
   "metadata": {},
   "outputs": [
    {
     "data": {
      "text/html": [
       "<ol class=list-inline>\n",
       "\t<li>'UserID'</li>\n",
       "\t<li>'first_txn_dt'</li>\n",
       "\t<li>'last_txn_dt'</li>\n",
       "\t<li>'txn_cnt'</li>\n",
       "\t<li>'total_stakes'</li>\n",
       "\t<li>'total_wins'</li>\n",
       "\t<li>'total_bets'</li>\n",
       "\t<li>'avg_stakes'</li>\n",
       "\t<li>'avg_wins'</li>\n",
       "\t<li>'avg_bets'</li>\n",
       "\t<li>'procuct_1_cnt'</li>\n",
       "\t<li>'product_2_cnt'</li>\n",
       "\t<li>'product_4_cnt'</li>\n",
       "\t<li>'product_5_cnt'</li>\n",
       "\t<li>'product_6_cnt'</li>\n",
       "\t<li>'product_7_cnt'</li>\n",
       "\t<li>'product_8_cnt'</li>\n",
       "</ol>\n"
      ],
      "text/latex": [
       "\\begin{enumerate*}\n",
       "\\item 'UserID'\n",
       "\\item 'first\\_txn\\_dt'\n",
       "\\item 'last\\_txn\\_dt'\n",
       "\\item 'txn\\_cnt'\n",
       "\\item 'total\\_stakes'\n",
       "\\item 'total\\_wins'\n",
       "\\item 'total\\_bets'\n",
       "\\item 'avg\\_stakes'\n",
       "\\item 'avg\\_wins'\n",
       "\\item 'avg\\_bets'\n",
       "\\item 'procuct\\_1\\_cnt'\n",
       "\\item 'product\\_2\\_cnt'\n",
       "\\item 'product\\_4\\_cnt'\n",
       "\\item 'product\\_5\\_cnt'\n",
       "\\item 'product\\_6\\_cnt'\n",
       "\\item 'product\\_7\\_cnt'\n",
       "\\item 'product\\_8\\_cnt'\n",
       "\\end{enumerate*}\n"
      ],
      "text/markdown": [
       "1. 'UserID'\n",
       "2. 'first_txn_dt'\n",
       "3. 'last_txn_dt'\n",
       "4. 'txn_cnt'\n",
       "5. 'total_stakes'\n",
       "6. 'total_wins'\n",
       "7. 'total_bets'\n",
       "8. 'avg_stakes'\n",
       "9. 'avg_wins'\n",
       "10. 'avg_bets'\n",
       "11. 'procuct_1_cnt'\n",
       "12. 'product_2_cnt'\n",
       "13. 'product_4_cnt'\n",
       "14. 'product_5_cnt'\n",
       "15. 'product_6_cnt'\n",
       "16. 'product_7_cnt'\n",
       "17. 'product_8_cnt'\n",
       "\n",
       "\n"
      ],
      "text/plain": [
       " [1] \"UserID\"        \"first_txn_dt\"  \"last_txn_dt\"   \"txn_cnt\"      \n",
       " [5] \"total_stakes\"  \"total_wins\"    \"total_bets\"    \"avg_stakes\"   \n",
       " [9] \"avg_wins\"      \"avg_bets\"      \"procuct_1_cnt\" \"product_2_cnt\"\n",
       "[13] \"product_4_cnt\" \"product_5_cnt\" \"product_6_cnt\" \"product_7_cnt\"\n",
       "[17] \"product_8_cnt\""
      ]
     },
     "metadata": {},
     "output_type": "display_data"
    }
   ],
   "source": [
    "names(uda_cleaned)"
   ]
  },
  {
   "cell_type": "code",
   "execution_count": null,
   "metadata": {},
   "outputs": [],
   "source": []
  }
 ],
 "metadata": {
  "interpreter": {
   "hash": "f6dfda4f7504926322e752c060a724cc46e23c81b9d8dc9b8f916990a33f0c50"
  },
  "kernelspec": {
   "display_name": "R",
   "language": "R",
   "name": "python382jvsc74a57bd0f6dfda4f7504926322e752c060a724cc46e23c81b9d8dc9b8f916990a33f0c50"
  },
  "language_info": {
   "codemirror_mode": "r",
   "file_extension": ".r",
   "mimetype": "text/x-r-source",
   "name": "R",
   "pygments_lexer": "r",
   "version": "3.6.1"
  },
  "orig_nbformat": 4
 },
 "nbformat": 4,
 "nbformat_minor": 2
}
