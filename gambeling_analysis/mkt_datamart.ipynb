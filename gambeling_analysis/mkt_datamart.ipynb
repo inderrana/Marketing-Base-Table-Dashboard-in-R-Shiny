{
 "cells": [
  {
   "cell_type": "code",
   "execution_count": 1,
   "metadata": {},
   "outputs": [
    {
     "name": "stderr",
     "output_type": "stream",
     "text": [
      "Loading required package: lubridate\n",
      "\n",
      "Attaching package: 'lubridate'\n",
      "\n",
      "The following object is masked from 'package:base':\n",
      "\n",
      "    date\n",
      "\n",
      "Loading required package: dplyr\n",
      "Error: package or namespace load failed for 'dplyr' in loadNamespace(j <- i[[1L]], c(lib.loc, .libPaths()), versionCheck = vI[[j]]):\n",
      " there is no package called 'pillar'\n",
      "also installing the dependencies 'glue', 'lifecycle', 'rlang', 'tibble', 'tidyselect', 'pillar'\n",
      "\n"
     ]
    },
    {
     "name": "stdout",
     "output_type": "stream",
     "text": [
      "\n",
      "  There are binary versions available but the source versions are later:\n",
      "          binary source needs_compilation\n",
      "glue       1.4.2  1.5.1              TRUE\n",
      "lifecycle  1.0.0  1.0.1             FALSE\n",
      "rlang     0.4.11 0.4.12              TRUE\n",
      "tibble     3.1.1  3.1.6              TRUE\n",
      "pillar     1.6.0  1.6.4             FALSE\n",
      "dplyr      1.0.6  1.0.7              TRUE\n",
      "\n",
      "  Binaries will be installed\n",
      "package 'glue' successfully unpacked and MD5 sums checked\n"
     ]
    },
    {
     "name": "stderr",
     "output_type": "stream",
     "text": [
      "Warning message:\n",
      "\"cannot remove prior installation of package 'glue'\"Warning message in file.copy(savedcopy, lib, recursive = TRUE):\n",
      "\"problem copying C:\\tools\\Anaconda3\\envs\\r-environment\\Lib\\R\\library\\00LOCK\\glue\\libs\\x64\\glue.dll to C:\\tools\\Anaconda3\\envs\\r-environment\\Lib\\R\\library\\glue\\libs\\x64\\glue.dll: Permission denied\"Warning message:\n",
      "\"restored 'glue'\""
     ]
    },
    {
     "name": "stdout",
     "output_type": "stream",
     "text": [
      "package 'rlang' successfully unpacked and MD5 sums checked\n"
     ]
    },
    {
     "name": "stderr",
     "output_type": "stream",
     "text": [
      "Warning message:\n",
      "\"cannot remove prior installation of package 'rlang'\"Warning message in file.copy(savedcopy, lib, recursive = TRUE):\n",
      "\"problem copying C:\\tools\\Anaconda3\\envs\\r-environment\\Lib\\R\\library\\00LOCK\\rlang\\libs\\x64\\rlang.dll to C:\\tools\\Anaconda3\\envs\\r-environment\\Lib\\R\\library\\rlang\\libs\\x64\\rlang.dll: Permission denied\"Warning message:\n",
      "\"restored 'rlang'\""
     ]
    },
    {
     "name": "stdout",
     "output_type": "stream",
     "text": [
      "package 'tibble' successfully unpacked and MD5 sums checked\n"
     ]
    },
    {
     "name": "stderr",
     "output_type": "stream",
     "text": [
      "Warning message:\n",
      "\"cannot remove prior installation of package 'tibble'\"Warning message in file.copy(savedcopy, lib, recursive = TRUE):\n",
      "\"problem copying C:\\tools\\Anaconda3\\envs\\r-environment\\Lib\\R\\library\\00LOCK\\tibble\\libs\\x64\\tibble.dll to C:\\tools\\Anaconda3\\envs\\r-environment\\Lib\\R\\library\\tibble\\libs\\x64\\tibble.dll: Permission denied\"Warning message:\n",
      "\"restored 'tibble'\""
     ]
    },
    {
     "name": "stdout",
     "output_type": "stream",
     "text": [
      "package 'tidyselect' successfully unpacked and MD5 sums checked\n"
     ]
    },
    {
     "name": "stderr",
     "output_type": "stream",
     "text": [
      "Warning message:\n",
      "\"cannot remove prior installation of package 'tidyselect'\"Warning message in file.copy(savedcopy, lib, recursive = TRUE):\n",
      "\"problem copying C:\\tools\\Anaconda3\\envs\\r-environment\\Lib\\R\\library\\00LOCK\\tidyselect\\libs\\x64\\tidyselect.dll to C:\\tools\\Anaconda3\\envs\\r-environment\\Lib\\R\\library\\tidyselect\\libs\\x64\\tidyselect.dll: Permission denied\"Warning message:\n",
      "\"restored 'tidyselect'\""
     ]
    },
    {
     "name": "stdout",
     "output_type": "stream",
     "text": [
      "package 'dplyr' successfully unpacked and MD5 sums checked\n"
     ]
    },
    {
     "name": "stderr",
     "output_type": "stream",
     "text": [
      "Warning message:\n",
      "\"cannot remove prior installation of package 'dplyr'\"Warning message in file.copy(savedcopy, lib, recursive = TRUE):\n",
      "\"problem copying C:\\tools\\Anaconda3\\envs\\r-environment\\Lib\\R\\library\\00LOCK\\dplyr\\libs\\x64\\dplyr.dll to C:\\tools\\Anaconda3\\envs\\r-environment\\Lib\\R\\library\\dplyr\\libs\\x64\\dplyr.dll: Permission denied\"Warning message:\n",
      "\"restored 'dplyr'\""
     ]
    },
    {
     "name": "stdout",
     "output_type": "stream",
     "text": [
      "\n",
      "The downloaded binary packages are in\n",
      "\tC:\\Users\\njohn\\AppData\\Local\\Temp\\RtmpgVhign\\downloaded_packages\n"
     ]
    },
    {
     "name": "stderr",
     "output_type": "stream",
     "text": [
      "installing the source packages 'lifecycle', 'pillar'\n",
      "\n",
      "Warning message in install.packages(\"dplyr\"):\n",
      "\"installation of package 'lifecycle' had non-zero exit status\"Warning message in install.packages(\"dplyr\"):\n",
      "\"installation of package 'pillar' had non-zero exit status\"Loading required package: ggplot2\n",
      "Error: package or namespace load failed for 'ggplot2' in loadNamespace(j <- i[[1L]], c(lib.loc, .libPaths()), versionCheck = vI[[j]]):\n",
      " there is no package called 'pillar'\n",
      "also installing the dependency 'rlang'\n",
      "\n"
     ]
    },
    {
     "name": "stdout",
     "output_type": "stream",
     "text": [
      "\n",
      "  There are binary versions available but the source versions are later:\n",
      "        binary source needs_compilation\n",
      "rlang   0.4.11 0.4.12              TRUE\n",
      "ggplot2  3.3.3  3.3.5             FALSE\n",
      "\n",
      "  Binaries will be installed\n",
      "package 'rlang' successfully unpacked and MD5 sums checked\n"
     ]
    },
    {
     "name": "stderr",
     "output_type": "stream",
     "text": [
      "Warning message:\n",
      "\"cannot remove prior installation of package 'rlang'\"Warning message in file.copy(savedcopy, lib, recursive = TRUE):\n",
      "\"problem copying C:\\tools\\Anaconda3\\envs\\r-environment\\Lib\\R\\library\\00LOCK\\rlang\\libs\\x64\\rlang.dll to C:\\tools\\Anaconda3\\envs\\r-environment\\Lib\\R\\library\\rlang\\libs\\x64\\rlang.dll: Permission denied\"Warning message:\n",
      "\"restored 'rlang'\""
     ]
    },
    {
     "name": "stdout",
     "output_type": "stream",
     "text": [
      "\n",
      "The downloaded binary packages are in\n",
      "\tC:\\Users\\njohn\\AppData\\Local\\Temp\\RtmpgVhign\\downloaded_packages\n"
     ]
    },
    {
     "name": "stderr",
     "output_type": "stream",
     "text": [
      "installing the source package 'ggplot2'\n",
      "\n",
      "Warning message in install.packages(\"ggplot2\"):\n",
      "\"installation of package 'ggplot2' had non-zero exit status\""
     ]
    }
   ],
   "source": [
    "if (!require(\"lubridate\")) install.packages(\"lubridate\")\n",
    "if (!require(\"dplyr\")) install.packages(\"dplyr\")\n",
    "if (!require(\"ggplot2\")) install.packages(\"ggplot2\")\n",
    "if (!require(\"formattable\")) install.packages(\"formattable\")\n",
    "if (!require(\"Hmisc\")) install.packages('Hmisc')\n",
    "if (!require(\"tidyr\")) install.packages(\"tidyr\")"
   ]
  },
  {
   "cell_type": "code",
   "execution_count": 2,
   "metadata": {},
   "outputs": [],
   "source": [
    "options(scipen = 20)"
   ]
  },
  {
   "cell_type": "code",
   "execution_count": 3,
   "metadata": {},
   "outputs": [
    {
     "data": {
      "text/html": [
       "'c:/Users/njohn/OneDrive - IESEG/Documents/GitHub/marketing_datamart/gambeling_analysis'"
      ],
      "text/latex": [
       "'c:/Users/njohn/OneDrive - IESEG/Documents/GitHub/marketing\\_datamart/gambeling\\_analysis'"
      ],
      "text/markdown": [
       "'c:/Users/njohn/OneDrive - IESEG/Documents/GitHub/marketing_datamart/gambeling_analysis'"
      ],
      "text/plain": [
       "[1] \"c:/Users/njohn/OneDrive - IESEG/Documents/GitHub/marketing_datamart/gambeling_analysis\""
      ]
     },
     "metadata": {},
     "output_type": "display_data"
    }
   ],
   "source": [
    "getwd()"
   ]
  },
  {
   "cell_type": "code",
   "execution_count": 4,
   "metadata": {},
   "outputs": [],
   "source": [
    "data = load('DataGroupAssignment.Rdata')"
   ]
  },
  {
   "cell_type": "code",
   "execution_count": 5,
   "metadata": {},
   "outputs": [
    {
     "data": {
      "text/html": [
       "<ol class=list-inline>\n",
       "\t<li>'Demographics'</li>\n",
       "\t<li>'UserDailyAggregation'</li>\n",
       "\t<li>'PokerChipConversions'</li>\n",
       "</ol>\n"
      ],
      "text/latex": [
       "\\begin{enumerate*}\n",
       "\\item 'Demographics'\n",
       "\\item 'UserDailyAggregation'\n",
       "\\item 'PokerChipConversions'\n",
       "\\end{enumerate*}\n"
      ],
      "text/markdown": [
       "1. 'Demographics'\n",
       "2. 'UserDailyAggregation'\n",
       "3. 'PokerChipConversions'\n",
       "\n",
       "\n"
      ],
      "text/plain": [
       "[1] \"Demographics\"         \"UserDailyAggregation\" \"PokerChipConversions\""
      ]
     },
     "metadata": {},
     "output_type": "display_data"
    }
   ],
   "source": [
    "data"
   ]
  },
  {
   "cell_type": "markdown",
   "metadata": {},
   "source": [
    "# data cleaning "
   ]
  },
  {
   "cell_type": "code",
   "execution_count": 6,
   "metadata": {},
   "outputs": [
    {
     "data": {
      "text/html": [
       "<table>\n",
       "<thead><tr><th scope=col>UserID</th><th scope=col>Country</th><th scope=col>Language</th><th scope=col>RegDate</th><th scope=col>FirstPay</th><th scope=col>FirstAct</th><th scope=col>FirstSp</th><th scope=col>FirstCa</th><th scope=col>FirstGa</th><th scope=col>FirstPo</th><th scope=col>ApplicationID</th><th scope=col>Gender</th></tr></thead>\n",
       "<tbody>\n",
       "\t<tr><td>1324354   </td><td>276       </td><td>2         </td><td>2005-02-01</td><td>20050224  </td><td>20050224  </td><td>20050224  </td><td>NULL      </td><td>NULL      </td><td>NULL      </td><td>3         </td><td>1         </td></tr>\n",
       "\t<tr><td>1324355   </td><td>300       </td><td>8         </td><td>2005-02-01</td><td>20050201  </td><td>20050201  </td><td>20050201  </td><td>NULL      </td><td>NULL      </td><td>20050611  </td><td>1         </td><td>1         </td></tr>\n",
       "\t<tr><td>1324356   </td><td>276       </td><td>2         </td><td>2005-02-01</td><td>20050201  </td><td>20050202  </td><td>20050202  </td><td>NULL      </td><td>NULL      </td><td>NULL      </td><td>3         </td><td>1         </td></tr>\n",
       "\t<tr><td>1324358   </td><td>752       </td><td>1         </td><td>2005-02-01</td><td>20050201  </td><td>20050201  </td><td>20050201  </td><td>NULL      </td><td>NULL      </td><td>NULL      </td><td>1         </td><td>1         </td></tr>\n",
       "\t<tr><td>1324360   </td><td>792       </td><td>7         </td><td>2005-02-01</td><td>20050202  </td><td>20050202  </td><td>20050202  </td><td>20050203  </td><td>NULL      </td><td>NULL      </td><td>9         </td><td>1         </td></tr>\n",
       "\t<tr><td>1324362   </td><td>276       </td><td>2         </td><td>2005-02-01</td><td>20050211  </td><td>20050211  </td><td>20050211  </td><td>NULL      </td><td>NULL      </td><td>NULL      </td><td>3         </td><td>1         </td></tr>\n",
       "</tbody>\n",
       "</table>\n"
      ],
      "text/latex": [
       "\\begin{tabular}{r|llllllllllll}\n",
       " UserID & Country & Language & RegDate & FirstPay & FirstAct & FirstSp & FirstCa & FirstGa & FirstPo & ApplicationID & Gender\\\\\n",
       "\\hline\n",
       "\t 1324354    & 276        & 2          & 2005-02-01 & 20050224   & 20050224   & 20050224   & NULL       & NULL       & NULL       & 3          & 1         \\\\\n",
       "\t 1324355    & 300        & 8          & 2005-02-01 & 20050201   & 20050201   & 20050201   & NULL       & NULL       & 20050611   & 1          & 1         \\\\\n",
       "\t 1324356    & 276        & 2          & 2005-02-01 & 20050201   & 20050202   & 20050202   & NULL       & NULL       & NULL       & 3          & 1         \\\\\n",
       "\t 1324358    & 752        & 1          & 2005-02-01 & 20050201   & 20050201   & 20050201   & NULL       & NULL       & NULL       & 1          & 1         \\\\\n",
       "\t 1324360    & 792        & 7          & 2005-02-01 & 20050202   & 20050202   & 20050202   & 20050203   & NULL       & NULL       & 9          & 1         \\\\\n",
       "\t 1324362    & 276        & 2          & 2005-02-01 & 20050211   & 20050211   & 20050211   & NULL       & NULL       & NULL       & 3          & 1         \\\\\n",
       "\\end{tabular}\n"
      ],
      "text/markdown": [
       "\n",
       "| UserID | Country | Language | RegDate | FirstPay | FirstAct | FirstSp | FirstCa | FirstGa | FirstPo | ApplicationID | Gender |\n",
       "|---|---|---|---|---|---|---|---|---|---|---|---|\n",
       "| 1324354    | 276        | 2          | 2005-02-01 | 20050224   | 20050224   | 20050224   | NULL       | NULL       | NULL       | 3          | 1          |\n",
       "| 1324355    | 300        | 8          | 2005-02-01 | 20050201   | 20050201   | 20050201   | NULL       | NULL       | 20050611   | 1          | 1          |\n",
       "| 1324356    | 276        | 2          | 2005-02-01 | 20050201   | 20050202   | 20050202   | NULL       | NULL       | NULL       | 3          | 1          |\n",
       "| 1324358    | 752        | 1          | 2005-02-01 | 20050201   | 20050201   | 20050201   | NULL       | NULL       | NULL       | 1          | 1          |\n",
       "| 1324360    | 792        | 7          | 2005-02-01 | 20050202   | 20050202   | 20050202   | 20050203   | NULL       | NULL       | 9          | 1          |\n",
       "| 1324362    | 276        | 2          | 2005-02-01 | 20050211   | 20050211   | 20050211   | NULL       | NULL       | NULL       | 3          | 1          |\n",
       "\n"
      ],
      "text/plain": [
       "  UserID  Country Language RegDate    FirstPay FirstAct FirstSp  FirstCa \n",
       "1 1324354 276     2        2005-02-01 20050224 20050224 20050224 NULL    \n",
       "2 1324355 300     8        2005-02-01 20050201 20050201 20050201 NULL    \n",
       "3 1324356 276     2        2005-02-01 20050201 20050202 20050202 NULL    \n",
       "4 1324358 752     1        2005-02-01 20050201 20050201 20050201 NULL    \n",
       "5 1324360 792     7        2005-02-01 20050202 20050202 20050202 20050203\n",
       "6 1324362 276     2        2005-02-01 20050211 20050211 20050211 NULL    \n",
       "  FirstGa FirstPo  ApplicationID Gender\n",
       "1 NULL    NULL     3             1     \n",
       "2 NULL    20050611 1             1     \n",
       "3 NULL    NULL     3             1     \n",
       "4 NULL    NULL     1             1     \n",
       "5 NULL    NULL     9             1     \n",
       "6 NULL    NULL     3             1     "
      ]
     },
     "metadata": {},
     "output_type": "display_data"
    }
   ],
   "source": [
    "head(Demographics)"
   ]
  },
  {
   "cell_type": "code",
   "execution_count": 7,
   "metadata": {},
   "outputs": [
    {
     "name": "stdout",
     "output_type": "stream",
     "text": [
      "Classes 'tbl_df', 'tbl' and 'data.frame':\t42649 obs. of  12 variables:\n",
      " $ UserID       : num  1324354 1324355 1324356 1324358 1324360 ...\n",
      "  ..- attr(*, \"label\")= chr \"User ID\"\n",
      " $ Country      : num  276 300 276 752 792 276 208 276 620 792 ...\n",
      "  ..- attr(*, \"label\")= chr \"Country of residence\"\n",
      " $ Language     : num  2 8 2 1 7 2 11 2 16 7 ...\n",
      "  ..- attr(*, \"label\")= chr \"Primary language\"\n",
      " $ RegDate      : chr  \"2005-02-01\" \"2005-02-01\" \"2005-02-01\" \"2005-02-01\" ...\n",
      "  ..- attr(*, \"label\")= chr \"Registration Date\"\n",
      " $ FirstPay     : chr  \"20050224\" \"20050201\" \"20050201\" \"20050201\" ...\n",
      "  ..- attr(*, \"label\")= chr \"First Payin Date\"\n",
      " $ FirstAct     : chr  \"20050224\" \"20050201\" \"20050202\" \"20050201\" ...\n",
      "  ..- attr(*, \"label\")= chr \"First Active Play Date\"\n",
      " $ FirstSp      : chr  \"20050224\" \"20050201\" \"20050202\" \"20050201\" ...\n",
      "  ..- attr(*, \"label\")= chr \"First Sports Book Play Date\"\n",
      " $ FirstCa      : chr  \"NULL\" \"NULL\" \"NULL\" \"NULL\" ...\n",
      "  ..- attr(*, \"label\")= chr \"First Casino Play Date\"\n",
      " $ FirstGa      : chr  \"NULL\" \"NULL\" \"NULL\" \"NULL\" ...\n",
      "  ..- attr(*, \"label\")= chr \"First Games Play Date\"\n",
      " $ FirstPo      : chr  \"NULL\" \"20050611\" \"NULL\" \"NULL\" ...\n",
      "  ..- attr(*, \"label\")= chr \"First Poker Play Date\"\n",
      " $ ApplicationID: num  3 1 3 1 9 3 1 3 1 9 ...\n",
      "  ..- attr(*, \"label\")= chr \"Application ID\"\n",
      " $ Gender       : num  1 1 1 1 1 1 1 1 1 1 ...\n"
     ]
    }
   ],
   "source": [
    "#check tibble feature types\n",
    "str(Demographics)"
   ]
  },
  {
   "cell_type": "code",
   "execution_count": 8,
   "metadata": {},
   "outputs": [],
   "source": [
    "#convert registration date to date time \n",
    "Demographics$RegDate <- as.Date(Demographics$RegDate)"
   ]
  },
  {
   "cell_type": "code",
   "execution_count": 9,
   "metadata": {},
   "outputs": [
    {
     "name": "stdout",
     "output_type": "stream",
     "text": [
      " Date[1:42649], format: \"2005-02-01\" \"2005-02-01\" \"2005-02-01\" \"2005-02-01\" \"2005-02-01\" ...\n"
     ]
    }
   ],
   "source": [
    "str(Demographics$RegDate)"
   ]
  },
  {
   "cell_type": "code",
   "execution_count": 10,
   "metadata": {},
   "outputs": [],
   "source": [
    "#convert first pay, first act, first sports book play, first casino play,\n",
    "# first games play, and  first poker play dates to datetime.\n",
    "Demographics$FirstPay <- as.Date(Demographics$FirstPay, \"%Y%m%d\")"
   ]
  },
  {
   "cell_type": "code",
   "execution_count": 11,
   "metadata": {},
   "outputs": [],
   "source": [
    "Demographics$FirstAct <- as.Date(Demographics$FirstAct, \"%Y%m%d\")\n",
    "Demographics$FirstSp <- as.Date(Demographics$FirstSp, \"%Y%m%d\")\n",
    "Demographics$FirstCa <- as.Date(Demographics$FirstCa, \"%Y%m%d\")\n",
    "Demographics$FirstGa <- as.Date(Demographics$FirstGa, \"%Y%m%d\")\n",
    "Demographics$FirstPo <- as.Date(Demographics$FirstPo, \"%Y%m%d\")"
   ]
  },
  {
   "cell_type": "code",
   "execution_count": 12,
   "metadata": {},
   "outputs": [
    {
     "name": "stdout",
     "output_type": "stream",
     "text": [
      "Classes 'tbl_df', 'tbl' and 'data.frame':\t42649 obs. of  12 variables:\n",
      " $ UserID       : num  1324354 1324355 1324356 1324358 1324360 ...\n",
      "  ..- attr(*, \"label\")= chr \"User ID\"\n",
      " $ Country      : num  276 300 276 752 792 276 208 276 620 792 ...\n",
      "  ..- attr(*, \"label\")= chr \"Country of residence\"\n",
      " $ Language     : num  2 8 2 1 7 2 11 2 16 7 ...\n",
      "  ..- attr(*, \"label\")= chr \"Primary language\"\n",
      " $ RegDate      : Date, format: \"2005-02-01\" \"2005-02-01\" ...\n",
      " $ FirstPay     : Date, format: \"2005-02-24\" \"2005-02-01\" ...\n",
      " $ FirstAct     : Date, format: \"2005-02-24\" \"2005-02-01\" ...\n",
      " $ FirstSp      : Date, format: \"2005-02-24\" \"2005-02-01\" ...\n",
      " $ FirstCa      : Date, format: NA NA ...\n",
      " $ FirstGa      : Date, format: NA NA ...\n",
      " $ FirstPo      : Date, format: NA \"2005-06-11\" ...\n",
      " $ ApplicationID: num  3 1 3 1 9 3 1 3 1 9 ...\n",
      "  ..- attr(*, \"label\")= chr \"Application ID\"\n",
      " $ Gender       : num  1 1 1 1 1 1 1 1 1 1 ...\n"
     ]
    }
   ],
   "source": [
    "str(Demographics)"
   ]
  },
  {
   "cell_type": "code",
   "execution_count": 13,
   "metadata": {},
   "outputs": [],
   "source": [
    "#create a cutoff date object\n",
    "october <- as.Date(\"20051002\",\"%Y%m%d\")"
   ]
  },
  {
   "cell_type": "code",
   "execution_count": 14,
   "metadata": {},
   "outputs": [],
   "source": [
    "#calculate LOR (Length of Relation) based on time since \n",
    "#last transaction date in the dataset and the registration date of the \n",
    "#gambler\n",
    "Demographics$LOR <- october - Demographics$RegDate"
   ]
  },
  {
   "cell_type": "code",
   "execution_count": 15,
   "metadata": {},
   "outputs": [],
   "source": [
    "#calculate play to act interval (PTAI)\n",
    "#based on time from FirstPay (first betting deposit date)\n",
    "#and first active date\n",
    "Demographics$PTAI <- Demographics$FirstAct - Demographics$FirstPay"
   ]
  },
  {
   "cell_type": "code",
   "execution_count": 16,
   "metadata": {},
   "outputs": [],
   "source": [
    "#calculate registeration to first pay interval (RTFP)\n",
    "#based on time from gambler registration date to first bet deposit\n",
    "Demographics$RTFP <- Demographics$FirstPay - Demographics$RegDate"
   ]
  },
  {
   "cell_type": "code",
   "execution_count": 17,
   "metadata": {},
   "outputs": [],
   "source": [
    "#calculate dummy variable for each first play category (sports book, casino play,\n",
    "#first games play, first poker play) which indicates whether the indiviual\n",
    "#has ever partook in these play categories\n",
    "Demographics$SpPlayed <- ifelse(is.na(Demographics$FirstSp),1,0)\n",
    "\n",
    "Demographics$CaPlayed <- ifelse(is.na(Demographics$FirstCa),1,0)\n",
    "\n",
    "Demographics$GaPlayed <- ifelse(is.na(Demographics$FirstGa),1,0)\n",
    "Demographics$PoPlayed <- ifelse(is.na(Demographics$FirstPo),1,0)"
   ]
  },
  {
   "cell_type": "code",
   "execution_count": 18,
   "metadata": {},
   "outputs": [
    {
     "data": {
      "text/html": [
       "<dl class=dl-horizontal>\n",
       "\t<dt>UserID</dt>\n",
       "\t\t<dd>0</dd>\n",
       "\t<dt>Country</dt>\n",
       "\t\t<dd>0</dd>\n",
       "\t<dt>Language</dt>\n",
       "\t\t<dd>0</dd>\n",
       "\t<dt>RegDate</dt>\n",
       "\t\t<dd>0</dd>\n",
       "\t<dt>FirstPay</dt>\n",
       "\t\t<dd>0</dd>\n",
       "\t<dt>FirstAct</dt>\n",
       "\t\t<dd>2</dd>\n",
       "\t<dt>FirstSp</dt>\n",
       "\t\t<dd>1236</dd>\n",
       "\t<dt>FirstCa</dt>\n",
       "\t\t<dd>36761</dd>\n",
       "\t<dt>FirstGa</dt>\n",
       "\t\t<dd>39376</dd>\n",
       "\t<dt>FirstPo</dt>\n",
       "\t\t<dd>40507</dd>\n",
       "\t<dt>ApplicationID</dt>\n",
       "\t\t<dd>0</dd>\n",
       "\t<dt>Gender</dt>\n",
       "\t\t<dd>1</dd>\n",
       "\t<dt>LOR</dt>\n",
       "\t\t<dd>0</dd>\n",
       "\t<dt>PTAI</dt>\n",
       "\t\t<dd>2</dd>\n",
       "\t<dt>RTFP</dt>\n",
       "\t\t<dd>0</dd>\n",
       "\t<dt>SpPlayed</dt>\n",
       "\t\t<dd>0</dd>\n",
       "\t<dt>CaPlayed</dt>\n",
       "\t\t<dd>0</dd>\n",
       "\t<dt>GaPlayed</dt>\n",
       "\t\t<dd>0</dd>\n",
       "\t<dt>PoPlayed</dt>\n",
       "\t\t<dd>0</dd>\n",
       "</dl>\n"
      ],
      "text/latex": [
       "\\begin{description*}\n",
       "\\item[UserID] 0\n",
       "\\item[Country] 0\n",
       "\\item[Language] 0\n",
       "\\item[RegDate] 0\n",
       "\\item[FirstPay] 0\n",
       "\\item[FirstAct] 2\n",
       "\\item[FirstSp] 1236\n",
       "\\item[FirstCa] 36761\n",
       "\\item[FirstGa] 39376\n",
       "\\item[FirstPo] 40507\n",
       "\\item[ApplicationID] 0\n",
       "\\item[Gender] 1\n",
       "\\item[LOR] 0\n",
       "\\item[PTAI] 2\n",
       "\\item[RTFP] 0\n",
       "\\item[SpPlayed] 0\n",
       "\\item[CaPlayed] 0\n",
       "\\item[GaPlayed] 0\n",
       "\\item[PoPlayed] 0\n",
       "\\end{description*}\n"
      ],
      "text/markdown": [
       "UserID\n",
       ":   0Country\n",
       ":   0Language\n",
       ":   0RegDate\n",
       ":   0FirstPay\n",
       ":   0FirstAct\n",
       ":   2FirstSp\n",
       ":   1236FirstCa\n",
       ":   36761FirstGa\n",
       ":   39376FirstPo\n",
       ":   40507ApplicationID\n",
       ":   0Gender\n",
       ":   1LOR\n",
       ":   0PTAI\n",
       ":   2RTFP\n",
       ":   0SpPlayed\n",
       ":   0CaPlayed\n",
       ":   0GaPlayed\n",
       ":   0PoPlayed\n",
       ":   0\n",
       "\n"
      ],
      "text/plain": [
       "       UserID       Country      Language       RegDate      FirstPay \n",
       "            0             0             0             0             0 \n",
       "     FirstAct       FirstSp       FirstCa       FirstGa       FirstPo \n",
       "            2          1236         36761         39376         40507 \n",
       "ApplicationID        Gender           LOR          PTAI          RTFP \n",
       "            0             1             0             2             0 \n",
       "     SpPlayed      CaPlayed      GaPlayed      PoPlayed \n",
       "            0             0             0             0 "
      ]
     },
     "metadata": {},
     "output_type": "display_data"
    }
   ],
   "source": [
    "sapply(Demographics,function(x) sum(is.na(x)))"
   ]
  },
  {
   "cell_type": "code",
   "execution_count": 19,
   "metadata": {},
   "outputs": [
    {
     "data": {
      "text/plain": [
       "\n",
       "    0     1 \n",
       " 3588 39060 "
      ]
     },
     "metadata": {},
     "output_type": "display_data"
    }
   ],
   "source": [
    "table(Demographics$Gender)"
   ]
  },
  {
   "cell_type": "code",
   "execution_count": 20,
   "metadata": {},
   "outputs": [],
   "source": [
    "Demographics$Gender <- ifelse(is.na(Demographics$Gender),1, Demographics$Gender)"
   ]
  },
  {
   "cell_type": "code",
   "execution_count": 21,
   "metadata": {},
   "outputs": [
    {
     "data": {
      "text/html": [
       "0"
      ],
      "text/latex": [
       "0"
      ],
      "text/markdown": [
       "0"
      ],
      "text/plain": [
       "[1] 0"
      ]
     },
     "metadata": {},
     "output_type": "display_data"
    }
   ],
   "source": [
    "sum(is.na(Demographics$Gender))"
   ]
  },
  {
   "cell_type": "code",
   "execution_count": 22,
   "metadata": {},
   "outputs": [
    {
     "data": {
      "text/html": [
       "<table>\n",
       "<thead><tr><th scope=col>UserID</th><th scope=col>Country</th><th scope=col>Language</th><th scope=col>RegDate</th><th scope=col>FirstPay</th><th scope=col>FirstAct</th><th scope=col>FirstSp</th><th scope=col>FirstCa</th><th scope=col>FirstGa</th><th scope=col>FirstPo</th><th scope=col>ApplicationID</th><th scope=col>Gender</th><th scope=col>LOR</th><th scope=col>PTAI</th><th scope=col>RTFP</th><th scope=col>SpPlayed</th><th scope=col>CaPlayed</th><th scope=col>GaPlayed</th><th scope=col>PoPlayed</th></tr></thead>\n",
       "<tbody>\n",
       "\t<tr><td>1324354   </td><td>276       </td><td>2         </td><td>2005-02-01</td><td>2005-02-24</td><td>2005-02-24</td><td>2005-02-24</td><td>NA        </td><td>NA        </td><td>NA        </td><td>3         </td><td>1         </td><td>243 days  </td><td>0 days    </td><td>23 days   </td><td>0         </td><td>1         </td><td>1         </td><td>1         </td></tr>\n",
       "\t<tr><td>1324355   </td><td>300       </td><td>8         </td><td>2005-02-01</td><td>2005-02-01</td><td>2005-02-01</td><td>2005-02-01</td><td>NA        </td><td>NA        </td><td>2005-06-11</td><td>1         </td><td>1         </td><td>243 days  </td><td>0 days    </td><td> 0 days   </td><td>0         </td><td>1         </td><td>1         </td><td>0         </td></tr>\n",
       "\t<tr><td>1324356   </td><td>276       </td><td>2         </td><td>2005-02-01</td><td>2005-02-01</td><td>2005-02-02</td><td>2005-02-02</td><td>NA        </td><td>NA        </td><td>NA        </td><td>3         </td><td>1         </td><td>243 days  </td><td>1 days    </td><td> 0 days   </td><td>0         </td><td>1         </td><td>1         </td><td>1         </td></tr>\n",
       "\t<tr><td>1324358   </td><td>752       </td><td>1         </td><td>2005-02-01</td><td>2005-02-01</td><td>2005-02-01</td><td>2005-02-01</td><td>NA        </td><td>NA        </td><td>NA        </td><td>1         </td><td>1         </td><td>243 days  </td><td>0 days    </td><td> 0 days   </td><td>0         </td><td>1         </td><td>1         </td><td>1         </td></tr>\n",
       "\t<tr><td>1324360   </td><td>792       </td><td>7         </td><td>2005-02-01</td><td>2005-02-02</td><td>2005-02-02</td><td>2005-02-02</td><td>2005-02-03</td><td>NA        </td><td>NA        </td><td>9         </td><td>1         </td><td>243 days  </td><td>0 days    </td><td> 1 days   </td><td>0         </td><td>0         </td><td>1         </td><td>1         </td></tr>\n",
       "\t<tr><td>1324362   </td><td>276       </td><td>2         </td><td>2005-02-01</td><td>2005-02-11</td><td>2005-02-11</td><td>2005-02-11</td><td>NA        </td><td>NA        </td><td>NA        </td><td>3         </td><td>1         </td><td>243 days  </td><td>0 days    </td><td>10 days   </td><td>0         </td><td>1         </td><td>1         </td><td>1         </td></tr>\n",
       "</tbody>\n",
       "</table>\n"
      ],
      "text/latex": [
       "\\begin{tabular}{r|lllllllllllllllllll}\n",
       " UserID & Country & Language & RegDate & FirstPay & FirstAct & FirstSp & FirstCa & FirstGa & FirstPo & ApplicationID & Gender & LOR & PTAI & RTFP & SpPlayed & CaPlayed & GaPlayed & PoPlayed\\\\\n",
       "\\hline\n",
       "\t 1324354    & 276        & 2          & 2005-02-01 & 2005-02-24 & 2005-02-24 & 2005-02-24 & NA         & NA         & NA         & 3          & 1          & 243 days   & 0 days     & 23 days    & 0          & 1          & 1          & 1         \\\\\n",
       "\t 1324355    & 300        & 8          & 2005-02-01 & 2005-02-01 & 2005-02-01 & 2005-02-01 & NA         & NA         & 2005-06-11 & 1          & 1          & 243 days   & 0 days     &  0 days    & 0          & 1          & 1          & 0         \\\\\n",
       "\t 1324356    & 276        & 2          & 2005-02-01 & 2005-02-01 & 2005-02-02 & 2005-02-02 & NA         & NA         & NA         & 3          & 1          & 243 days   & 1 days     &  0 days    & 0          & 1          & 1          & 1         \\\\\n",
       "\t 1324358    & 752        & 1          & 2005-02-01 & 2005-02-01 & 2005-02-01 & 2005-02-01 & NA         & NA         & NA         & 1          & 1          & 243 days   & 0 days     &  0 days    & 0          & 1          & 1          & 1         \\\\\n",
       "\t 1324360    & 792        & 7          & 2005-02-01 & 2005-02-02 & 2005-02-02 & 2005-02-02 & 2005-02-03 & NA         & NA         & 9          & 1          & 243 days   & 0 days     &  1 days    & 0          & 0          & 1          & 1         \\\\\n",
       "\t 1324362    & 276        & 2          & 2005-02-01 & 2005-02-11 & 2005-02-11 & 2005-02-11 & NA         & NA         & NA         & 3          & 1          & 243 days   & 0 days     & 10 days    & 0          & 1          & 1          & 1         \\\\\n",
       "\\end{tabular}\n"
      ],
      "text/markdown": [
       "\n",
       "| UserID | Country | Language | RegDate | FirstPay | FirstAct | FirstSp | FirstCa | FirstGa | FirstPo | ApplicationID | Gender | LOR | PTAI | RTFP | SpPlayed | CaPlayed | GaPlayed | PoPlayed |\n",
       "|---|---|---|---|---|---|---|---|---|---|---|---|---|---|---|---|---|---|---|\n",
       "| 1324354    | 276        | 2          | 2005-02-01 | 2005-02-24 | 2005-02-24 | 2005-02-24 | NA         | NA         | NA         | 3          | 1          | 243 days   | 0 days     | 23 days    | 0          | 1          | 1          | 1          |\n",
       "| 1324355    | 300        | 8          | 2005-02-01 | 2005-02-01 | 2005-02-01 | 2005-02-01 | NA         | NA         | 2005-06-11 | 1          | 1          | 243 days   | 0 days     |  0 days    | 0          | 1          | 1          | 0          |\n",
       "| 1324356    | 276        | 2          | 2005-02-01 | 2005-02-01 | 2005-02-02 | 2005-02-02 | NA         | NA         | NA         | 3          | 1          | 243 days   | 1 days     |  0 days    | 0          | 1          | 1          | 1          |\n",
       "| 1324358    | 752        | 1          | 2005-02-01 | 2005-02-01 | 2005-02-01 | 2005-02-01 | NA         | NA         | NA         | 1          | 1          | 243 days   | 0 days     |  0 days    | 0          | 1          | 1          | 1          |\n",
       "| 1324360    | 792        | 7          | 2005-02-01 | 2005-02-02 | 2005-02-02 | 2005-02-02 | 2005-02-03 | NA         | NA         | 9          | 1          | 243 days   | 0 days     |  1 days    | 0          | 0          | 1          | 1          |\n",
       "| 1324362    | 276        | 2          | 2005-02-01 | 2005-02-11 | 2005-02-11 | 2005-02-11 | NA         | NA         | NA         | 3          | 1          | 243 days   | 0 days     | 10 days    | 0          | 1          | 1          | 1          |\n",
       "\n"
      ],
      "text/plain": [
       "  UserID  Country Language RegDate    FirstPay   FirstAct   FirstSp   \n",
       "1 1324354 276     2        2005-02-01 2005-02-24 2005-02-24 2005-02-24\n",
       "2 1324355 300     8        2005-02-01 2005-02-01 2005-02-01 2005-02-01\n",
       "3 1324356 276     2        2005-02-01 2005-02-01 2005-02-02 2005-02-02\n",
       "4 1324358 752     1        2005-02-01 2005-02-01 2005-02-01 2005-02-01\n",
       "5 1324360 792     7        2005-02-01 2005-02-02 2005-02-02 2005-02-02\n",
       "6 1324362 276     2        2005-02-01 2005-02-11 2005-02-11 2005-02-11\n",
       "  FirstCa    FirstGa FirstPo    ApplicationID Gender LOR      PTAI   RTFP   \n",
       "1 <NA>       <NA>    <NA>       3             1      243 days 0 days 23 days\n",
       "2 <NA>       <NA>    2005-06-11 1             1      243 days 0 days  0 days\n",
       "3 <NA>       <NA>    <NA>       3             1      243 days 1 days  0 days\n",
       "4 <NA>       <NA>    <NA>       1             1      243 days 0 days  0 days\n",
       "5 2005-02-03 <NA>    <NA>       9             1      243 days 0 days  1 days\n",
       "6 <NA>       <NA>    <NA>       3             1      243 days 0 days 10 days\n",
       "  SpPlayed CaPlayed GaPlayed PoPlayed\n",
       "1 0        1        1        1       \n",
       "2 0        1        1        0       \n",
       "3 0        1        1        1       \n",
       "4 0        1        1        1       \n",
       "5 0        0        1        1       \n",
       "6 0        1        1        1       "
      ]
     },
     "metadata": {},
     "output_type": "display_data"
    }
   ],
   "source": [
    "head(Demographics)"
   ]
  },
  {
   "cell_type": "code",
   "execution_count": 23,
   "metadata": {},
   "outputs": [],
   "source": [
    "UserDailyAggregation$Date <- as.Date(UserDailyAggregation$Date,\"%Y%m%d\")"
   ]
  },
  {
   "cell_type": "code",
   "execution_count": 24,
   "metadata": {},
   "outputs": [
    {
     "data": {
      "text/html": [
       "0"
      ],
      "text/latex": [
       "0"
      ],
      "text/markdown": [
       "0"
      ],
      "text/plain": [
       "[1] 0"
      ]
     },
     "metadata": {},
     "output_type": "display_data"
    }
   ],
   "source": [
    "sum(is.na(UserDailyAggregation))"
   ]
  },
  {
   "cell_type": "code",
   "execution_count": 25,
   "metadata": {},
   "outputs": [
    {
     "data": {
      "text/html": [
       "<table>\n",
       "<thead><tr><th scope=col>UserID</th><th scope=col>Date</th><th scope=col>ProductID</th><th scope=col>Stakes</th><th scope=col>Winnings</th><th scope=col>Bets</th></tr></thead>\n",
       "<tbody>\n",
       "\t<tr><td>1324354   </td><td>2005-02-24</td><td>1         </td><td>20        </td><td>0         </td><td>2         </td></tr>\n",
       "\t<tr><td>1324354   </td><td>2005-02-25</td><td>1         </td><td> 0        </td><td>0         </td><td>0         </td></tr>\n",
       "\t<tr><td>1324354   </td><td>2005-02-27</td><td>1         </td><td>20        </td><td>0         </td><td>2         </td></tr>\n",
       "\t<tr><td>1324354   </td><td>2005-03-03</td><td>1         </td><td>10        </td><td>0         </td><td>1         </td></tr>\n",
       "\t<tr><td>1324354   </td><td>2005-03-04</td><td>1         </td><td>10        </td><td>0         </td><td>1         </td></tr>\n",
       "\t<tr><td>1324354   </td><td>2005-03-05</td><td>1         </td><td>10        </td><td>0         </td><td>1         </td></tr>\n",
       "</tbody>\n",
       "</table>\n"
      ],
      "text/latex": [
       "\\begin{tabular}{r|llllll}\n",
       " UserID & Date & ProductID & Stakes & Winnings & Bets\\\\\n",
       "\\hline\n",
       "\t 1324354    & 2005-02-24 & 1          & 20         & 0          & 2         \\\\\n",
       "\t 1324354    & 2005-02-25 & 1          &  0         & 0          & 0         \\\\\n",
       "\t 1324354    & 2005-02-27 & 1          & 20         & 0          & 2         \\\\\n",
       "\t 1324354    & 2005-03-03 & 1          & 10         & 0          & 1         \\\\\n",
       "\t 1324354    & 2005-03-04 & 1          & 10         & 0          & 1         \\\\\n",
       "\t 1324354    & 2005-03-05 & 1          & 10         & 0          & 1         \\\\\n",
       "\\end{tabular}\n"
      ],
      "text/markdown": [
       "\n",
       "| UserID | Date | ProductID | Stakes | Winnings | Bets |\n",
       "|---|---|---|---|---|---|\n",
       "| 1324354    | 2005-02-24 | 1          | 20         | 0          | 2          |\n",
       "| 1324354    | 2005-02-25 | 1          |  0         | 0          | 0          |\n",
       "| 1324354    | 2005-02-27 | 1          | 20         | 0          | 2          |\n",
       "| 1324354    | 2005-03-03 | 1          | 10         | 0          | 1          |\n",
       "| 1324354    | 2005-03-04 | 1          | 10         | 0          | 1          |\n",
       "| 1324354    | 2005-03-05 | 1          | 10         | 0          | 1          |\n",
       "\n"
      ],
      "text/plain": [
       "  UserID  Date       ProductID Stakes Winnings Bets\n",
       "1 1324354 2005-02-24 1         20     0        2   \n",
       "2 1324354 2005-02-25 1          0     0        0   \n",
       "3 1324354 2005-02-27 1         20     0        2   \n",
       "4 1324354 2005-03-03 1         10     0        1   \n",
       "5 1324354 2005-03-04 1         10     0        1   \n",
       "6 1324354 2005-03-05 1         10     0        1   "
      ]
     },
     "metadata": {},
     "output_type": "display_data"
    }
   ],
   "source": [
    "head(UserDailyAggregation)"
   ]
  },
  {
   "cell_type": "code",
   "execution_count": null,
   "metadata": {},
   "outputs": [],
   "source": [
    "#Filter out transactions before first paydate\n",
    "Demographics_paydate <- Demographics %>%\n",
    "  select(UserID,FirstPay)\n",
    "\n",
    "uda_filtered <- left_join(UserDailyAggregation,Demographics_paydate,by = 'UserID')\n",
    "\n",
    "uda_filtered <- uda_filtered %>%\n",
    "  filter(Date >= FirstPay) %>%\n",
    "        select(-FirstPay)"
   ]
  },
  {
   "cell_type": "code",
   "execution_count": 26,
   "metadata": {},
   "outputs": [
    {
     "ename": "ERROR",
     "evalue": "Error in UserDailyAggregation %>% group_by(UserID) %>% summarise(first_txn_dt = min(Date), : could not find function \"%>%\"\n",
     "output_type": "error",
     "traceback": [
      "Error in UserDailyAggregation %>% group_by(UserID) %>% summarise(first_txn_dt = min(Date), : could not find function \"%>%\"\nTraceback:\n"
     ]
    }
   ],
   "source": [
    "UserDailyAggregation_1 <- uda_filtered %>% \n",
    "        group_by(UserID) %>% \n",
    "        summarise(first_txn_dt=min(Date),\n",
    "                  last_txn_dt=max(Date), \n",
    "                  txn_cnt=n(), \n",
    "                  total_stakes=round(sum(Stakes)), \n",
    "                  total_wins=round(sum(Winnings)), \n",
    "                  total_bets=round(sum(Bets)), \n",
    "                  avg_stakes=round(mean(Stakes)), \n",
    "                  avg_wins=round(mean(Winnings)), \n",
    "                  avg_bets=round(mean(Bets)))"
   ]
  },
  {
   "cell_type": "code",
   "execution_count": null,
   "metadata": {},
   "outputs": [
    {
     "data": {
      "text/html": [
       "<table>\n",
       "<thead><tr><th scope=col>UserID</th><th scope=col>first_txn_dt</th><th scope=col>last_txn_dt</th><th scope=col>txn_cnt</th><th scope=col>total_stakes</th><th scope=col>total_wins</th><th scope=col>total_bets</th><th scope=col>avg_stakes</th><th scope=col>avg_wins</th><th scope=col>avg_bets</th></tr></thead>\n",
       "<tbody>\n",
       "\t<tr><td>1324354   </td><td>2005-02-24</td><td>2005-09-30</td><td>136       </td><td>11977     </td><td>11737     </td><td>279       </td><td>88        </td><td>86        </td><td>2         </td></tr>\n",
       "\t<tr><td>1324355   </td><td>2005-02-01</td><td>2005-09-29</td><td>106       </td><td>  426     </td><td>  464     </td><td>252       </td><td> 4        </td><td> 4        </td><td>2         </td></tr>\n",
       "\t<tr><td>1324356   </td><td>2005-02-02</td><td>2005-09-12</td><td> 75       </td><td> 1365     </td><td>  911     </td><td>214       </td><td>18        </td><td>12        </td><td>3         </td></tr>\n",
       "\t<tr><td>1324358   </td><td>2005-02-01</td><td>2005-05-06</td><td>  9       </td><td>  336     </td><td>  210     </td><td> 11       </td><td>37        </td><td>23        </td><td>1         </td></tr>\n",
       "\t<tr><td>1324360   </td><td>2005-02-02</td><td>2005-09-25</td><td> 32       </td><td>   66     </td><td>   43     </td><td> 47       </td><td> 2        </td><td> 1        </td><td>1         </td></tr>\n",
       "\t<tr><td>1324362   </td><td>2005-02-11</td><td>2005-09-17</td><td>  7       </td><td>   22     </td><td>    0     </td><td>  7       </td><td> 3        </td><td> 0        </td><td>1         </td></tr>\n",
       "</tbody>\n",
       "</table>\n"
      ],
      "text/latex": [
       "\\begin{tabular}{r|llllllllll}\n",
       " UserID & first\\_txn\\_dt & last\\_txn\\_dt & txn\\_cnt & total\\_stakes & total\\_wins & total\\_bets & avg\\_stakes & avg\\_wins & avg\\_bets\\\\\n",
       "\\hline\n",
       "\t 1324354    & 2005-02-24 & 2005-09-30 & 136        & 11977      & 11737      & 279        & 88         & 86         & 2         \\\\\n",
       "\t 1324355    & 2005-02-01 & 2005-09-29 & 106        &   426      &   464      & 252        &  4         &  4         & 2         \\\\\n",
       "\t 1324356    & 2005-02-02 & 2005-09-12 &  75        &  1365      &   911      & 214        & 18         & 12         & 3         \\\\\n",
       "\t 1324358    & 2005-02-01 & 2005-05-06 &   9        &   336      &   210      &  11        & 37         & 23         & 1         \\\\\n",
       "\t 1324360    & 2005-02-02 & 2005-09-25 &  32        &    66      &    43      &  47        &  2         &  1         & 1         \\\\\n",
       "\t 1324362    & 2005-02-11 & 2005-09-17 &   7        &    22      &     0      &   7        &  3         &  0         & 1         \\\\\n",
       "\\end{tabular}\n"
      ],
      "text/markdown": [
       "\n",
       "| UserID | first_txn_dt | last_txn_dt | txn_cnt | total_stakes | total_wins | total_bets | avg_stakes | avg_wins | avg_bets |\n",
       "|---|---|---|---|---|---|---|---|---|---|\n",
       "| 1324354    | 2005-02-24 | 2005-09-30 | 136        | 11977      | 11737      | 279        | 88         | 86         | 2          |\n",
       "| 1324355    | 2005-02-01 | 2005-09-29 | 106        |   426      |   464      | 252        |  4         |  4         | 2          |\n",
       "| 1324356    | 2005-02-02 | 2005-09-12 |  75        |  1365      |   911      | 214        | 18         | 12         | 3          |\n",
       "| 1324358    | 2005-02-01 | 2005-05-06 |   9        |   336      |   210      |  11        | 37         | 23         | 1          |\n",
       "| 1324360    | 2005-02-02 | 2005-09-25 |  32        |    66      |    43      |  47        |  2         |  1         | 1          |\n",
       "| 1324362    | 2005-02-11 | 2005-09-17 |   7        |    22      |     0      |   7        |  3         |  0         | 1          |\n",
       "\n"
      ],
      "text/plain": [
       "  UserID  first_txn_dt last_txn_dt txn_cnt total_stakes total_wins total_bets\n",
       "1 1324354 2005-02-24   2005-09-30  136     11977        11737      279       \n",
       "2 1324355 2005-02-01   2005-09-29  106       426          464      252       \n",
       "3 1324356 2005-02-02   2005-09-12   75      1365          911      214       \n",
       "4 1324358 2005-02-01   2005-05-06    9       336          210       11       \n",
       "5 1324360 2005-02-02   2005-09-25   32        66           43       47       \n",
       "6 1324362 2005-02-11   2005-09-17    7        22            0        7       \n",
       "  avg_stakes avg_wins avg_bets\n",
       "1 88         86       2       \n",
       "2  4          4       2       \n",
       "3 18         12       3       \n",
       "4 37         23       1       \n",
       "5  2          1       1       \n",
       "6  3          0       1       "
      ]
     },
     "metadata": {},
     "output_type": "display_data"
    }
   ],
   "source": [
    "head(UserDailyAggregation_1)"
   ]
  },
  {
   "cell_type": "code",
   "execution_count": null,
   "metadata": {},
   "outputs": [
    {
     "data": {
      "text/html": [
       "<table>\n",
       "<thead><tr><th scope=col>ProductID</th></tr></thead>\n",
       "<tbody>\n",
       "\t<tr><td>1</td></tr>\n",
       "\t<tr><td>2</td></tr>\n",
       "\t<tr><td>4</td></tr>\n",
       "\t<tr><td>5</td></tr>\n",
       "\t<tr><td>6</td></tr>\n",
       "\t<tr><td>7</td></tr>\n",
       "\t<tr><td>8</td></tr>\n",
       "</tbody>\n",
       "</table>\n"
      ],
      "text/latex": [
       "\\begin{tabular}{r|l}\n",
       " ProductID\\\\\n",
       "\\hline\n",
       "\t 1\\\\\n",
       "\t 2\\\\\n",
       "\t 4\\\\\n",
       "\t 5\\\\\n",
       "\t 6\\\\\n",
       "\t 7\\\\\n",
       "\t 8\\\\\n",
       "\\end{tabular}\n"
      ],
      "text/markdown": [
       "\n",
       "| ProductID |\n",
       "|---|\n",
       "| 1 |\n",
       "| 2 |\n",
       "| 4 |\n",
       "| 5 |\n",
       "| 6 |\n",
       "| 7 |\n",
       "| 8 |\n",
       "\n"
      ],
      "text/plain": [
       "  ProductID\n",
       "1 1        \n",
       "2 2        \n",
       "3 4        \n",
       "4 5        \n",
       "5 6        \n",
       "6 7        \n",
       "7 8        "
      ]
     },
     "metadata": {},
     "output_type": "display_data"
    }
   ],
   "source": [
    "p_id <- unique(UserDailyAggregation[c(\"ProductID\")])\n",
    "p_id[order(p_id$ProductID),]"
   ]
  },
  {
   "cell_type": "code",
   "execution_count": null,
   "metadata": {},
   "outputs": [],
   "source": [
    "# Making a new dataframe with number of transactions per UserID in the given period\n",
    "UserDailyAggregation_2 <- uda_filtered %>% \n",
    "                group_by(UserID) %>% \n",
    "                summarise(procuct_1_cnt=length(ProductID[ProductID == 1]),\n",
    "                product_2_cnt=length(ProductID[ProductID == 2]),\n",
    "                product_4_cnt=length(ProductID[ProductID == 4]),\n",
    "                product_5_cnt=length(ProductID[ProductID == 5]),\n",
    "                product_6_cnt=length(ProductID[ProductID == 6]),\n",
    "                product_7_cnt=length(ProductID[ProductID == 7]),\n",
    "                product_8_cnt=length(ProductID[ProductID == 8])\n",
    "                )"
   ]
  },
  {
   "cell_type": "code",
   "execution_count": null,
   "metadata": {},
   "outputs": [
    {
     "data": {
      "text/html": [
       "<table>\n",
       "<thead><tr><th scope=col>UserID</th><th scope=col>procuct_1_cnt</th><th scope=col>product_2_cnt</th><th scope=col>product_4_cnt</th><th scope=col>product_5_cnt</th><th scope=col>product_6_cnt</th><th scope=col>product_7_cnt</th><th scope=col>product_8_cnt</th></tr></thead>\n",
       "<tbody>\n",
       "\t<tr><td>1324354</td><td>117    </td><td>19     </td><td>0      </td><td>0      </td><td>0      </td><td>0      </td><td>0      </td></tr>\n",
       "\t<tr><td>1324355</td><td> 99    </td><td> 7     </td><td>0      </td><td>0      </td><td>0      </td><td>0      </td><td>0      </td></tr>\n",
       "\t<tr><td>1324356</td><td> 51    </td><td>24     </td><td>0      </td><td>0      </td><td>0      </td><td>0      </td><td>0      </td></tr>\n",
       "\t<tr><td>1324358</td><td>  8    </td><td> 1     </td><td>0      </td><td>0      </td><td>0      </td><td>0      </td><td>0      </td></tr>\n",
       "\t<tr><td>1324360</td><td> 29    </td><td> 2     </td><td>0      </td><td>0      </td><td>0      </td><td>0      </td><td>1      </td></tr>\n",
       "\t<tr><td>1324362</td><td>  7    </td><td> 0     </td><td>0      </td><td>0      </td><td>0      </td><td>0      </td><td>0      </td></tr>\n",
       "</tbody>\n",
       "</table>\n"
      ],
      "text/latex": [
       "\\begin{tabular}{r|llllllll}\n",
       " UserID & procuct\\_1\\_cnt & product\\_2\\_cnt & product\\_4\\_cnt & product\\_5\\_cnt & product\\_6\\_cnt & product\\_7\\_cnt & product\\_8\\_cnt\\\\\n",
       "\\hline\n",
       "\t 1324354 & 117     & 19      & 0       & 0       & 0       & 0       & 0      \\\\\n",
       "\t 1324355 &  99     &  7      & 0       & 0       & 0       & 0       & 0      \\\\\n",
       "\t 1324356 &  51     & 24      & 0       & 0       & 0       & 0       & 0      \\\\\n",
       "\t 1324358 &   8     &  1      & 0       & 0       & 0       & 0       & 0      \\\\\n",
       "\t 1324360 &  29     &  2      & 0       & 0       & 0       & 0       & 1      \\\\\n",
       "\t 1324362 &   7     &  0      & 0       & 0       & 0       & 0       & 0      \\\\\n",
       "\\end{tabular}\n"
      ],
      "text/markdown": [
       "\n",
       "| UserID | procuct_1_cnt | product_2_cnt | product_4_cnt | product_5_cnt | product_6_cnt | product_7_cnt | product_8_cnt |\n",
       "|---|---|---|---|---|---|---|---|\n",
       "| 1324354 | 117     | 19      | 0       | 0       | 0       | 0       | 0       |\n",
       "| 1324355 |  99     |  7      | 0       | 0       | 0       | 0       | 0       |\n",
       "| 1324356 |  51     | 24      | 0       | 0       | 0       | 0       | 0       |\n",
       "| 1324358 |   8     |  1      | 0       | 0       | 0       | 0       | 0       |\n",
       "| 1324360 |  29     |  2      | 0       | 0       | 0       | 0       | 1       |\n",
       "| 1324362 |   7     |  0      | 0       | 0       | 0       | 0       | 0       |\n",
       "\n"
      ],
      "text/plain": [
       "  UserID  procuct_1_cnt product_2_cnt product_4_cnt product_5_cnt product_6_cnt\n",
       "1 1324354 117           19            0             0             0            \n",
       "2 1324355  99            7            0             0             0            \n",
       "3 1324356  51           24            0             0             0            \n",
       "4 1324358   8            1            0             0             0            \n",
       "5 1324360  29            2            0             0             0            \n",
       "6 1324362   7            0            0             0             0            \n",
       "  product_7_cnt product_8_cnt\n",
       "1 0             0            \n",
       "2 0             0            \n",
       "3 0             0            \n",
       "4 0             0            \n",
       "5 0             1            \n",
       "6 0             0            "
      ]
     },
     "metadata": {},
     "output_type": "display_data"
    }
   ],
   "source": [
    "head(UserDailyAggregation_2)"
   ]
  },
  {
   "cell_type": "code",
   "execution_count": null,
   "metadata": {},
   "outputs": [
    {
     "data": {
      "text/html": [
       "<dl class=dl-horizontal>\n",
       "\t<dt>UserID</dt>\n",
       "\t\t<dd>0</dd>\n",
       "\t<dt>first_txn_dt</dt>\n",
       "\t\t<dd>0</dd>\n",
       "\t<dt>last_txn_dt</dt>\n",
       "\t\t<dd>0</dd>\n",
       "\t<dt>txn_cnt</dt>\n",
       "\t\t<dd>0</dd>\n",
       "\t<dt>total_stakes</dt>\n",
       "\t\t<dd>0</dd>\n",
       "\t<dt>total_wins</dt>\n",
       "\t\t<dd>0</dd>\n",
       "\t<dt>total_bets</dt>\n",
       "\t\t<dd>0</dd>\n",
       "\t<dt>avg_stakes</dt>\n",
       "\t\t<dd>0</dd>\n",
       "\t<dt>avg_wins</dt>\n",
       "\t\t<dd>0</dd>\n",
       "\t<dt>avg_bets</dt>\n",
       "\t\t<dd>0</dd>\n",
       "</dl>\n"
      ],
      "text/latex": [
       "\\begin{description*}\n",
       "\\item[UserID] 0\n",
       "\\item[first\\textbackslash{}\\_txn\\textbackslash{}\\_dt] 0\n",
       "\\item[last\\textbackslash{}\\_txn\\textbackslash{}\\_dt] 0\n",
       "\\item[txn\\textbackslash{}\\_cnt] 0\n",
       "\\item[total\\textbackslash{}\\_stakes] 0\n",
       "\\item[total\\textbackslash{}\\_wins] 0\n",
       "\\item[total\\textbackslash{}\\_bets] 0\n",
       "\\item[avg\\textbackslash{}\\_stakes] 0\n",
       "\\item[avg\\textbackslash{}\\_wins] 0\n",
       "\\item[avg\\textbackslash{}\\_bets] 0\n",
       "\\end{description*}\n"
      ],
      "text/markdown": [
       "UserID\n",
       ":   0first_txn_dt\n",
       ":   0last_txn_dt\n",
       ":   0txn_cnt\n",
       ":   0total_stakes\n",
       ":   0total_wins\n",
       ":   0total_bets\n",
       ":   0avg_stakes\n",
       ":   0avg_wins\n",
       ":   0avg_bets\n",
       ":   0\n",
       "\n"
      ],
      "text/plain": [
       "      UserID first_txn_dt  last_txn_dt      txn_cnt total_stakes   total_wins \n",
       "           0            0            0            0            0            0 \n",
       "  total_bets   avg_stakes     avg_wins     avg_bets \n",
       "           0            0            0            0 "
      ]
     },
     "metadata": {},
     "output_type": "display_data"
    }
   ],
   "source": [
    "sapply(UserDailyAggregation_1,function(x) sum(is.na(x)))"
   ]
  },
  {
   "cell_type": "code",
   "execution_count": null,
   "metadata": {},
   "outputs": [
    {
     "data": {
      "text/html": [
       "<table>\n",
       "<thead><tr><th scope=col>UserID</th><th scope=col>Date</th><th scope=col>ProductID</th><th scope=col>Stakes</th><th scope=col>Winnings</th><th scope=col>Bets</th></tr></thead>\n",
       "<tbody>\n",
       "\t<tr><td>1324354   </td><td>2005-02-24</td><td>1         </td><td>20        </td><td>0         </td><td>2         </td></tr>\n",
       "\t<tr><td>1324354   </td><td>2005-02-25</td><td>1         </td><td> 0        </td><td>0         </td><td>0         </td></tr>\n",
       "\t<tr><td>1324354   </td><td>2005-02-27</td><td>1         </td><td>20        </td><td>0         </td><td>2         </td></tr>\n",
       "\t<tr><td>1324354   </td><td>2005-03-03</td><td>1         </td><td>10        </td><td>0         </td><td>1         </td></tr>\n",
       "\t<tr><td>1324354   </td><td>2005-03-04</td><td>1         </td><td>10        </td><td>0         </td><td>1         </td></tr>\n",
       "\t<tr><td>1324354   </td><td>2005-03-05</td><td>1         </td><td>10        </td><td>0         </td><td>1         </td></tr>\n",
       "</tbody>\n",
       "</table>\n"
      ],
      "text/latex": [
       "\\begin{tabular}{r|llllll}\n",
       " UserID & Date & ProductID & Stakes & Winnings & Bets\\\\\n",
       "\\hline\n",
       "\t 1324354    & 2005-02-24 & 1          & 20         & 0          & 2         \\\\\n",
       "\t 1324354    & 2005-02-25 & 1          &  0         & 0          & 0         \\\\\n",
       "\t 1324354    & 2005-02-27 & 1          & 20         & 0          & 2         \\\\\n",
       "\t 1324354    & 2005-03-03 & 1          & 10         & 0          & 1         \\\\\n",
       "\t 1324354    & 2005-03-04 & 1          & 10         & 0          & 1         \\\\\n",
       "\t 1324354    & 2005-03-05 & 1          & 10         & 0          & 1         \\\\\n",
       "\\end{tabular}\n"
      ],
      "text/markdown": [
       "\n",
       "| UserID | Date | ProductID | Stakes | Winnings | Bets |\n",
       "|---|---|---|---|---|---|\n",
       "| 1324354    | 2005-02-24 | 1          | 20         | 0          | 2          |\n",
       "| 1324354    | 2005-02-25 | 1          |  0         | 0          | 0          |\n",
       "| 1324354    | 2005-02-27 | 1          | 20         | 0          | 2          |\n",
       "| 1324354    | 2005-03-03 | 1          | 10         | 0          | 1          |\n",
       "| 1324354    | 2005-03-04 | 1          | 10         | 0          | 1          |\n",
       "| 1324354    | 2005-03-05 | 1          | 10         | 0          | 1          |\n",
       "\n"
      ],
      "text/plain": [
       "  UserID  Date       ProductID Stakes Winnings Bets\n",
       "1 1324354 2005-02-24 1         20     0        2   \n",
       "2 1324354 2005-02-25 1          0     0        0   \n",
       "3 1324354 2005-02-27 1         20     0        2   \n",
       "4 1324354 2005-03-03 1         10     0        1   \n",
       "5 1324354 2005-03-04 1         10     0        1   \n",
       "6 1324354 2005-03-05 1         10     0        1   "
      ]
     },
     "metadata": {},
     "output_type": "display_data"
    }
   ],
   "source": [
    "head(UserDailyAggregation)"
   ]
  },
  {
   "cell_type": "code",
   "execution_count": null,
   "metadata": {},
   "outputs": [],
   "source": [
    "uda_cleaned <- merge(x = UserDailyAggregation_1, y = UserDailyAggregation_2, by = \"UserID\", all.x = TRUE)"
   ]
  },
  {
   "cell_type": "code",
   "execution_count": null,
   "metadata": {},
   "outputs": [
    {
     "data": {
      "text/html": [
       "<table>\n",
       "<thead><tr><th scope=col>UserID</th><th scope=col>first_txn_dt</th><th scope=col>last_txn_dt</th><th scope=col>txn_cnt</th><th scope=col>total_stakes</th><th scope=col>total_wins</th><th scope=col>total_bets</th><th scope=col>avg_stakes</th><th scope=col>avg_wins</th><th scope=col>avg_bets</th><th scope=col>procuct_1_cnt</th><th scope=col>product_2_cnt</th><th scope=col>product_4_cnt</th><th scope=col>product_5_cnt</th><th scope=col>product_6_cnt</th><th scope=col>product_7_cnt</th><th scope=col>product_8_cnt</th></tr></thead>\n",
       "<tbody>\n",
       "\t<tr><td>1324354   </td><td>2005-02-24</td><td>2005-09-30</td><td>136       </td><td>11977     </td><td>11737     </td><td>279       </td><td>88        </td><td>86        </td><td>2         </td><td>117       </td><td>19        </td><td>0         </td><td>0         </td><td>0         </td><td>0         </td><td>0         </td></tr>\n",
       "\t<tr><td>1324355   </td><td>2005-02-01</td><td>2005-09-29</td><td>106       </td><td>  426     </td><td>  464     </td><td>252       </td><td> 4        </td><td> 4        </td><td>2         </td><td> 99       </td><td> 7        </td><td>0         </td><td>0         </td><td>0         </td><td>0         </td><td>0         </td></tr>\n",
       "\t<tr><td>1324356   </td><td>2005-02-02</td><td>2005-09-12</td><td> 75       </td><td> 1365     </td><td>  911     </td><td>214       </td><td>18        </td><td>12        </td><td>3         </td><td> 51       </td><td>24        </td><td>0         </td><td>0         </td><td>0         </td><td>0         </td><td>0         </td></tr>\n",
       "\t<tr><td>1324358   </td><td>2005-02-01</td><td>2005-05-06</td><td>  9       </td><td>  336     </td><td>  210     </td><td> 11       </td><td>37        </td><td>23        </td><td>1         </td><td>  8       </td><td> 1        </td><td>0         </td><td>0         </td><td>0         </td><td>0         </td><td>0         </td></tr>\n",
       "\t<tr><td>1324360   </td><td>2005-02-02</td><td>2005-09-25</td><td> 32       </td><td>   66     </td><td>   43     </td><td> 47       </td><td> 2        </td><td> 1        </td><td>1         </td><td> 29       </td><td> 2        </td><td>0         </td><td>0         </td><td>0         </td><td>0         </td><td>1         </td></tr>\n",
       "\t<tr><td>1324362   </td><td>2005-02-11</td><td>2005-09-17</td><td>  7       </td><td>   22     </td><td>    0     </td><td>  7       </td><td> 3        </td><td> 0        </td><td>1         </td><td>  7       </td><td> 0        </td><td>0         </td><td>0         </td><td>0         </td><td>0         </td><td>0         </td></tr>\n",
       "</tbody>\n",
       "</table>\n"
      ],
      "text/latex": [
       "\\begin{tabular}{r|lllllllllllllllll}\n",
       " UserID & first\\_txn\\_dt & last\\_txn\\_dt & txn\\_cnt & total\\_stakes & total\\_wins & total\\_bets & avg\\_stakes & avg\\_wins & avg\\_bets & procuct\\_1\\_cnt & product\\_2\\_cnt & product\\_4\\_cnt & product\\_5\\_cnt & product\\_6\\_cnt & product\\_7\\_cnt & product\\_8\\_cnt\\\\\n",
       "\\hline\n",
       "\t 1324354    & 2005-02-24 & 2005-09-30 & 136        & 11977      & 11737      & 279        & 88         & 86         & 2          & 117        & 19         & 0          & 0          & 0          & 0          & 0         \\\\\n",
       "\t 1324355    & 2005-02-01 & 2005-09-29 & 106        &   426      &   464      & 252        &  4         &  4         & 2          &  99        &  7         & 0          & 0          & 0          & 0          & 0         \\\\\n",
       "\t 1324356    & 2005-02-02 & 2005-09-12 &  75        &  1365      &   911      & 214        & 18         & 12         & 3          &  51        & 24         & 0          & 0          & 0          & 0          & 0         \\\\\n",
       "\t 1324358    & 2005-02-01 & 2005-05-06 &   9        &   336      &   210      &  11        & 37         & 23         & 1          &   8        &  1         & 0          & 0          & 0          & 0          & 0         \\\\\n",
       "\t 1324360    & 2005-02-02 & 2005-09-25 &  32        &    66      &    43      &  47        &  2         &  1         & 1          &  29        &  2         & 0          & 0          & 0          & 0          & 1         \\\\\n",
       "\t 1324362    & 2005-02-11 & 2005-09-17 &   7        &    22      &     0      &   7        &  3         &  0         & 1          &   7        &  0         & 0          & 0          & 0          & 0          & 0         \\\\\n",
       "\\end{tabular}\n"
      ],
      "text/markdown": [
       "\n",
       "| UserID | first_txn_dt | last_txn_dt | txn_cnt | total_stakes | total_wins | total_bets | avg_stakes | avg_wins | avg_bets | procuct_1_cnt | product_2_cnt | product_4_cnt | product_5_cnt | product_6_cnt | product_7_cnt | product_8_cnt |\n",
       "|---|---|---|---|---|---|---|---|---|---|---|---|---|---|---|---|---|\n",
       "| 1324354    | 2005-02-24 | 2005-09-30 | 136        | 11977      | 11737      | 279        | 88         | 86         | 2          | 117        | 19         | 0          | 0          | 0          | 0          | 0          |\n",
       "| 1324355    | 2005-02-01 | 2005-09-29 | 106        |   426      |   464      | 252        |  4         |  4         | 2          |  99        |  7         | 0          | 0          | 0          | 0          | 0          |\n",
       "| 1324356    | 2005-02-02 | 2005-09-12 |  75        |  1365      |   911      | 214        | 18         | 12         | 3          |  51        | 24         | 0          | 0          | 0          | 0          | 0          |\n",
       "| 1324358    | 2005-02-01 | 2005-05-06 |   9        |   336      |   210      |  11        | 37         | 23         | 1          |   8        |  1         | 0          | 0          | 0          | 0          | 0          |\n",
       "| 1324360    | 2005-02-02 | 2005-09-25 |  32        |    66      |    43      |  47        |  2         |  1         | 1          |  29        |  2         | 0          | 0          | 0          | 0          | 1          |\n",
       "| 1324362    | 2005-02-11 | 2005-09-17 |   7        |    22      |     0      |   7        |  3         |  0         | 1          |   7        |  0         | 0          | 0          | 0          | 0          | 0          |\n",
       "\n"
      ],
      "text/plain": [
       "  UserID  first_txn_dt last_txn_dt txn_cnt total_stakes total_wins total_bets\n",
       "1 1324354 2005-02-24   2005-09-30  136     11977        11737      279       \n",
       "2 1324355 2005-02-01   2005-09-29  106       426          464      252       \n",
       "3 1324356 2005-02-02   2005-09-12   75      1365          911      214       \n",
       "4 1324358 2005-02-01   2005-05-06    9       336          210       11       \n",
       "5 1324360 2005-02-02   2005-09-25   32        66           43       47       \n",
       "6 1324362 2005-02-11   2005-09-17    7        22            0        7       \n",
       "  avg_stakes avg_wins avg_bets procuct_1_cnt product_2_cnt product_4_cnt\n",
       "1 88         86       2        117           19            0            \n",
       "2  4          4       2         99            7            0            \n",
       "3 18         12       3         51           24            0            \n",
       "4 37         23       1          8            1            0            \n",
       "5  2          1       1         29            2            0            \n",
       "6  3          0       1          7            0            0            \n",
       "  product_5_cnt product_6_cnt product_7_cnt product_8_cnt\n",
       "1 0             0             0             0            \n",
       "2 0             0             0             0            \n",
       "3 0             0             0             0            \n",
       "4 0             0             0             0            \n",
       "5 0             0             0             1            \n",
       "6 0             0             0             0            "
      ]
     },
     "metadata": {},
     "output_type": "display_data"
    }
   ],
   "source": [
    "head(uda_cleaned)"
   ]
  },
  {
   "cell_type": "code",
   "execution_count": null,
   "metadata": {},
   "outputs": [
    {
     "data": {
      "text/html": [
       "<ol class=list-inline>\n",
       "\t<li>'UserID'</li>\n",
       "\t<li>'first_txn_dt'</li>\n",
       "\t<li>'last_txn_dt'</li>\n",
       "\t<li>'txn_cnt'</li>\n",
       "\t<li>'total_stakes'</li>\n",
       "\t<li>'total_wins'</li>\n",
       "\t<li>'total_bets'</li>\n",
       "\t<li>'avg_stakes'</li>\n",
       "\t<li>'avg_wins'</li>\n",
       "\t<li>'avg_bets'</li>\n",
       "\t<li>'procuct_1_cnt'</li>\n",
       "\t<li>'product_2_cnt'</li>\n",
       "\t<li>'product_4_cnt'</li>\n",
       "\t<li>'product_5_cnt'</li>\n",
       "\t<li>'product_6_cnt'</li>\n",
       "\t<li>'product_7_cnt'</li>\n",
       "\t<li>'product_8_cnt'</li>\n",
       "</ol>\n"
      ],
      "text/latex": [
       "\\begin{enumerate*}\n",
       "\\item 'UserID'\n",
       "\\item 'first\\_txn\\_dt'\n",
       "\\item 'last\\_txn\\_dt'\n",
       "\\item 'txn\\_cnt'\n",
       "\\item 'total\\_stakes'\n",
       "\\item 'total\\_wins'\n",
       "\\item 'total\\_bets'\n",
       "\\item 'avg\\_stakes'\n",
       "\\item 'avg\\_wins'\n",
       "\\item 'avg\\_bets'\n",
       "\\item 'procuct\\_1\\_cnt'\n",
       "\\item 'product\\_2\\_cnt'\n",
       "\\item 'product\\_4\\_cnt'\n",
       "\\item 'product\\_5\\_cnt'\n",
       "\\item 'product\\_6\\_cnt'\n",
       "\\item 'product\\_7\\_cnt'\n",
       "\\item 'product\\_8\\_cnt'\n",
       "\\end{enumerate*}\n"
      ],
      "text/markdown": [
       "1. 'UserID'\n",
       "2. 'first_txn_dt'\n",
       "3. 'last_txn_dt'\n",
       "4. 'txn_cnt'\n",
       "5. 'total_stakes'\n",
       "6. 'total_wins'\n",
       "7. 'total_bets'\n",
       "8. 'avg_stakes'\n",
       "9. 'avg_wins'\n",
       "10. 'avg_bets'\n",
       "11. 'procuct_1_cnt'\n",
       "12. 'product_2_cnt'\n",
       "13. 'product_4_cnt'\n",
       "14. 'product_5_cnt'\n",
       "15. 'product_6_cnt'\n",
       "16. 'product_7_cnt'\n",
       "17. 'product_8_cnt'\n",
       "\n",
       "\n"
      ],
      "text/plain": [
       " [1] \"UserID\"        \"first_txn_dt\"  \"last_txn_dt\"   \"txn_cnt\"      \n",
       " [5] \"total_stakes\"  \"total_wins\"    \"total_bets\"    \"avg_stakes\"   \n",
       " [9] \"avg_wins\"      \"avg_bets\"      \"procuct_1_cnt\" \"product_2_cnt\"\n",
       "[13] \"product_4_cnt\" \"product_5_cnt\" \"product_6_cnt\" \"product_7_cnt\"\n",
       "[17] \"product_8_cnt\""
      ]
     },
     "metadata": {},
     "output_type": "display_data"
    }
   ],
   "source": [
    "names(uda_cleaned)"
   ]
  },
  {
   "cell_type": "code",
   "execution_count": null,
   "metadata": {},
   "outputs": [],
   "source": [
    "#Calculate Recency, Frequency and Monetary Value\n",
    "#Get max date\n",
    "\n",
    "#calculate recency and frequency\n",
    "UserDailyAggregation_rfm <- uda_filtered %>% \n",
    "  group_by(UserID) %>% \n",
    "  summarise(recency = as.numeric(october - max(Date)),\n",
    "            frequency = n(),\n",
    "            monetary_value = sum(Winnings))\n",
    "\n",
    "#Fill na with 0s\n",
    "UserDailyAggregation_rfm[is.na(UserDailyAggregation_rfm)] = 0\n",
    "\n",
    "#calculate RFM Score\n",
    "UserDailyAggregation_rfm <- UserDailyAggregation_rfm %>%\n",
    "  mutate(rfm_value = recency + frequency + monetary_value)\n",
    "\n",
    "\n",
    "uda_cleaned <- left_join(uda_cleaned,UserDailyAggregation_rfm,by='UserID')\n",
    "\n",
    "UserDailyAggregation_rfm <- UserDailyAggregation_rfm %>%\n",
    "  mutate(recency_score = as.numeric(cut2(-recency, g=4)),\n",
    "         frequency_score = as.numeric(cut2(frequency, g=4)),\n",
    "         value_score = as.numeric(cut2(monetary_value, g=4)))\n",
    "UserDailyAggregation_rfm <- UserDailyAggregation_rfm %>%\n",
    "  mutate(recency_score = recency_score *0.2,\n",
    "         frequency_score = frequency_score *0.2,\n",
    "         value_score = value_score *0.6)\n",
    "\n",
    "UserDailyAggregation_rfm$weighted_score <- rowMeans(UserDailyAggregation_rfm[,c(\"recency_score\",\"frequency_score\",\"value_score\")])\n",
    "\n",
    "uda_cleaned <- left_join(uda_cleaned,UserDailyAggregation_rfm,by='UserID')\n"
   ]
  },
  {
   "cell_type": "code",
   "execution_count": null,
   "metadata": {},
   "outputs": [],
   "source": [
    "uda_cleaned$profit <- uda_cleaned$total_stakes - uda_cleaned$total_wins"
   ]
  },
  {
   "cell_type": "code",
   "execution_count": null,
   "metadata": {},
   "outputs": [],
   "source": [
    "PokerChipConversions_buy <- PokerChipConversions %>% \n",
    "                          group_by(UserID) %>% \n",
    "                            filter(TransType == 124) %>% \n",
    "                            summarise(total_buy = sum(TransAmount),\n",
    "                                      avg_buy = mean(TransAmount),\n",
    "                                      min_buy = min(TransAmount),\n",
    "                                      max_buy = max(TransAmount))\n",
    "\n",
    "PokerChipConversions_sell <- PokerChipConversions %>% \n",
    "                                group_by(UserID) %>% \n",
    "                                filter(TransType == 24) %>% \n",
    "                                summarise(total_sell = sum(TransAmount),\n",
    "                                          avg_sell = mean(TransAmount),\n",
    "                                          min_sell = min(TransAmount),\n",
    "                                          max_sell = max(TransAmount))\n",
    "\n",
    "PokerChipConversions_2 <- full_join(x=PokerChipConversions_buy,y=PokerChipConversions_sell, by='UserID')"
   ]
  },
  {
   "cell_type": "code",
   "execution_count": null,
   "metadata": {},
   "outputs": [],
   "source": [
    "base_table <- merge(x= Demographics,y=uda_cleaned,by='UserID',all.x=TRUE)\n",
    "base_table <- left_join(base_table,PokerChipConversions_2,by='UserID')"
   ]
  }
 ],
 "metadata": {
  "interpreter": {
   "hash": "f6dfda4f7504926322e752c060a724cc46e23c81b9d8dc9b8f916990a33f0c50"
  },
  "kernelspec": {
   "display_name": "R",
   "language": "R",
   "name": "python396jvsc74a57bd0d7ff20910c5304552d0b4c1164dfc0a171c277810953fa1692cab57ae17a1bfb"
  },
  "language_info": {
   "codemirror_mode": "r",
   "file_extension": ".r",
   "mimetype": "text/x-r-source",
   "name": "R",
   "pygments_lexer": "r",
   "version": "3.6.1"
  },
  "orig_nbformat": 4
 },
 "nbformat": 4,
 "nbformat_minor": 2
}
