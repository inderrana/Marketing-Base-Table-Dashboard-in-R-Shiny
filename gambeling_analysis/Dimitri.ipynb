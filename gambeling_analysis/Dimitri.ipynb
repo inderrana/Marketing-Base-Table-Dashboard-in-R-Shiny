{
 "cells": [
  {
   "cell_type": "code",
   "execution_count": 1,
   "source": [
    "library(ggplot2)"
   ],
   "outputs": [
    {
     "output_type": "stream",
     "name": "stderr",
     "text": [
      "Registered S3 methods overwritten by 'ggplot2':\n",
      "  method         from \n",
      "  [.quosures     rlang\n",
      "  c.quosures     rlang\n",
      "  print.quosures rlang\n"
     ]
    }
   ],
   "metadata": {}
  }
 ],
 "metadata": {
  "orig_nbformat": 4,
  "language_info": {
   "name": "R",
   "codemirror_mode": "r",
   "pygments_lexer": "r",
   "mimetype": "text/x-r-source",
   "file_extension": ".r",
   "version": "3.6.1"
  },
  "kernelspec": {
   "name": "python396jvsc74a57bd0d7ff20910c5304552d0b4c1164dfc0a171c277810953fa1692cab57ae17a1bfb",
   "display_name": "R",
   "language": "R"
  }
 },
 "nbformat": 4,
 "nbformat_minor": 2
}