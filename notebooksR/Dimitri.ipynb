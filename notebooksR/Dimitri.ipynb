{
 "cells": [
  {
   "cell_type": "code",
   "execution_count": 42,
   "source": [
    "data = load('DataGroupAssignment.Rdata')"
   ],
   "outputs": [],
   "metadata": {}
  },
  {
   "cell_type": "code",
   "execution_count": 23,
   "source": [
    "library('lubridate')"
   ],
   "outputs": [],
   "metadata": {}
  },
  {
   "cell_type": "code",
   "execution_count": 43,
   "source": [
    "head(Demographics)"
   ],
   "outputs": [
    {
     "output_type": "display_data",
     "data": {
      "text/plain": [
       "  UserID  Country Language RegDate    FirstPay FirstAct FirstSp  FirstCa \n",
       "1 1324354 276     2        2005-02-01 20050224 20050224 20050224 NULL    \n",
       "2 1324355 300     8        2005-02-01 20050201 20050201 20050201 NULL    \n",
       "3 1324356 276     2        2005-02-01 20050201 20050202 20050202 NULL    \n",
       "4 1324358 752     1        2005-02-01 20050201 20050201 20050201 NULL    \n",
       "5 1324360 792     7        2005-02-01 20050202 20050202 20050202 20050203\n",
       "6 1324362 276     2        2005-02-01 20050211 20050211 20050211 NULL    \n",
       "  FirstGa FirstPo  ApplicationID Gender\n",
       "1 NULL    NULL     3             1     \n",
       "2 NULL    20050611 1             1     \n",
       "3 NULL    NULL     3             1     \n",
       "4 NULL    NULL     1             1     \n",
       "5 NULL    NULL     9             1     \n",
       "6 NULL    NULL     3             1     "
      ],
      "text/markdown": [
       "\n",
       "| UserID | Country | Language | RegDate | FirstPay | FirstAct | FirstSp | FirstCa | FirstGa | FirstPo | ApplicationID | Gender |\n",
       "|---|---|---|---|---|---|---|---|---|---|---|---|\n",
       "| 1324354    | 276        | 2          | 2005-02-01 | 20050224   | 20050224   | 20050224   | NULL       | NULL       | NULL       | 3          | 1          |\n",
       "| 1324355    | 300        | 8          | 2005-02-01 | 20050201   | 20050201   | 20050201   | NULL       | NULL       | 20050611   | 1          | 1          |\n",
       "| 1324356    | 276        | 2          | 2005-02-01 | 20050201   | 20050202   | 20050202   | NULL       | NULL       | NULL       | 3          | 1          |\n",
       "| 1324358    | 752        | 1          | 2005-02-01 | 20050201   | 20050201   | 20050201   | NULL       | NULL       | NULL       | 1          | 1          |\n",
       "| 1324360    | 792        | 7          | 2005-02-01 | 20050202   | 20050202   | 20050202   | 20050203   | NULL       | NULL       | 9          | 1          |\n",
       "| 1324362    | 276        | 2          | 2005-02-01 | 20050211   | 20050211   | 20050211   | NULL       | NULL       | NULL       | 3          | 1          |\n",
       "\n"
      ],
      "text/latex": [
       "\\begin{tabular}{r|llllllllllll}\n",
       " UserID & Country & Language & RegDate & FirstPay & FirstAct & FirstSp & FirstCa & FirstGa & FirstPo & ApplicationID & Gender\\\\\n",
       "\\hline\n",
       "\t 1324354    & 276        & 2          & 2005-02-01 & 20050224   & 20050224   & 20050224   & NULL       & NULL       & NULL       & 3          & 1         \\\\\n",
       "\t 1324355    & 300        & 8          & 2005-02-01 & 20050201   & 20050201   & 20050201   & NULL       & NULL       & 20050611   & 1          & 1         \\\\\n",
       "\t 1324356    & 276        & 2          & 2005-02-01 & 20050201   & 20050202   & 20050202   & NULL       & NULL       & NULL       & 3          & 1         \\\\\n",
       "\t 1324358    & 752        & 1          & 2005-02-01 & 20050201   & 20050201   & 20050201   & NULL       & NULL       & NULL       & 1          & 1         \\\\\n",
       "\t 1324360    & 792        & 7          & 2005-02-01 & 20050202   & 20050202   & 20050202   & 20050203   & NULL       & NULL       & 9          & 1         \\\\\n",
       "\t 1324362    & 276        & 2          & 2005-02-01 & 20050211   & 20050211   & 20050211   & NULL       & NULL       & NULL       & 3          & 1         \\\\\n",
       "\\end{tabular}\n"
      ],
      "text/html": [
       "<table>\n",
       "<thead><tr><th scope=col>UserID</th><th scope=col>Country</th><th scope=col>Language</th><th scope=col>RegDate</th><th scope=col>FirstPay</th><th scope=col>FirstAct</th><th scope=col>FirstSp</th><th scope=col>FirstCa</th><th scope=col>FirstGa</th><th scope=col>FirstPo</th><th scope=col>ApplicationID</th><th scope=col>Gender</th></tr></thead>\n",
       "<tbody>\n",
       "\t<tr><td>1324354   </td><td>276       </td><td>2         </td><td>2005-02-01</td><td>20050224  </td><td>20050224  </td><td>20050224  </td><td>NULL      </td><td>NULL      </td><td>NULL      </td><td>3         </td><td>1         </td></tr>\n",
       "\t<tr><td>1324355   </td><td>300       </td><td>8         </td><td>2005-02-01</td><td>20050201  </td><td>20050201  </td><td>20050201  </td><td>NULL      </td><td>NULL      </td><td>20050611  </td><td>1         </td><td>1         </td></tr>\n",
       "\t<tr><td>1324356   </td><td>276       </td><td>2         </td><td>2005-02-01</td><td>20050201  </td><td>20050202  </td><td>20050202  </td><td>NULL      </td><td>NULL      </td><td>NULL      </td><td>3         </td><td>1         </td></tr>\n",
       "\t<tr><td>1324358   </td><td>752       </td><td>1         </td><td>2005-02-01</td><td>20050201  </td><td>20050201  </td><td>20050201  </td><td>NULL      </td><td>NULL      </td><td>NULL      </td><td>1         </td><td>1         </td></tr>\n",
       "\t<tr><td>1324360   </td><td>792       </td><td>7         </td><td>2005-02-01</td><td>20050202  </td><td>20050202  </td><td>20050202  </td><td>20050203  </td><td>NULL      </td><td>NULL      </td><td>9         </td><td>1         </td></tr>\n",
       "\t<tr><td>1324362   </td><td>276       </td><td>2         </td><td>2005-02-01</td><td>20050211  </td><td>20050211  </td><td>20050211  </td><td>NULL      </td><td>NULL      </td><td>NULL      </td><td>3         </td><td>1         </td></tr>\n",
       "</tbody>\n",
       "</table>\n"
      ]
     },
     "metadata": {}
    }
   ],
   "metadata": {}
  },
  {
   "cell_type": "code",
   "execution_count": 25,
   "source": [
    "#data cleaning \r\n",
    "#check tibble feature types\r\n",
    "str(Demographics)"
   ],
   "outputs": [
    {
     "output_type": "stream",
     "name": "stdout",
     "text": [
      "Classes 'tbl_df', 'tbl' and 'data.frame':\t42649 obs. of  12 variables:\n",
      " $ UserID       : num  1324354 1324355 1324356 1324358 1324360 ...\n",
      "  ..- attr(*, \"label\")= chr \"User ID\"\n",
      " $ Country      : num  276 300 276 752 792 276 208 276 620 792 ...\n",
      "  ..- attr(*, \"label\")= chr \"Country of residence\"\n",
      " $ Language     : num  2 8 2 1 7 2 11 2 16 7 ...\n",
      "  ..- attr(*, \"label\")= chr \"Primary language\"\n",
      " $ RegDate      : chr  \"2005-02-01\" \"2005-02-01\" \"2005-02-01\" \"2005-02-01\" ...\n",
      "  ..- attr(*, \"label\")= chr \"Registration Date\"\n",
      " $ FirstPay     : chr  \"20050224\" \"20050201\" \"20050201\" \"20050201\" ...\n",
      "  ..- attr(*, \"label\")= chr \"First Payin Date\"\n",
      " $ FirstAct     : chr  \"20050224\" \"20050201\" \"20050202\" \"20050201\" ...\n",
      "  ..- attr(*, \"label\")= chr \"First Active Play Date\"\n",
      " $ FirstSp      : chr  \"20050224\" \"20050201\" \"20050202\" \"20050201\" ...\n",
      "  ..- attr(*, \"label\")= chr \"First Sports Book Play Date\"\n",
      " $ FirstCa      : chr  \"NULL\" \"NULL\" \"NULL\" \"NULL\" ...\n",
      "  ..- attr(*, \"label\")= chr \"First Casino Play Date\"\n",
      " $ FirstGa      : chr  \"NULL\" \"NULL\" \"NULL\" \"NULL\" ...\n",
      "  ..- attr(*, \"label\")= chr \"First Games Play Date\"\n",
      " $ FirstPo      : chr  \"NULL\" \"20050611\" \"NULL\" \"NULL\" ...\n",
      "  ..- attr(*, \"label\")= chr \"First Poker Play Date\"\n",
      " $ ApplicationID: num  3 1 3 1 9 3 1 3 1 9 ...\n",
      "  ..- attr(*, \"label\")= chr \"Application ID\"\n",
      " $ Gender       : num  1 1 1 1 1 1 1 1 1 1 ...\n"
     ]
    }
   ],
   "metadata": {}
  },
  {
   "cell_type": "code",
   "execution_count": 31,
   "source": [
    "#convert registration date to date time \r\n",
    "Demographics$RegDate <- as.Date(Demographics$RegDate)"
   ],
   "outputs": [],
   "metadata": {}
  },
  {
   "cell_type": "code",
   "execution_count": 33,
   "source": [
    "str(Demographics$RegDate)"
   ],
   "outputs": [
    {
     "output_type": "stream",
     "name": "stdout",
     "text": [
      " Date[1:42649], format: \"2005-02-01\" \"2005-02-01\" \"2005-02-01\" \"2005-02-01\" \"2005-02-01\" ...\n"
     ]
    }
   ],
   "metadata": {}
  },
  {
   "cell_type": "code",
   "execution_count": 35,
   "source": [
    "#convert first pay, first act, first sports book play, first casino play,\r\n",
    "# first games play, and  first poker play dates to datetime.\r\n",
    "Demographics$FirstPay <- as.Date(Demographics$FirstPay, \"%Y%m%d\")"
   ],
   "outputs": [],
   "metadata": {}
  },
  {
   "cell_type": "code",
   "execution_count": 36,
   "source": [
    "Demographics$FirstAct <- as.Date(Demographics$FirstAct, \"%Y%m%d\")"
   ],
   "outputs": [],
   "metadata": {}
  },
  {
   "cell_type": "code",
   "execution_count": 37,
   "source": [
    "Demographics$FirstSp <- as.Date(Demographics$FirstSp, \"%Y%m%d\")"
   ],
   "outputs": [],
   "metadata": {}
  },
  {
   "cell_type": "code",
   "execution_count": 38,
   "source": [
    "Demographics$FirstCa <- as.Date(Demographics$FirstCa, \"%Y%m%d\")"
   ],
   "outputs": [],
   "metadata": {}
  },
  {
   "cell_type": "code",
   "execution_count": 39,
   "source": [
    "Demographics$FirstGa <- as.Date(Demographics$FirstGa, \"%Y%m%d\")"
   ],
   "outputs": [],
   "metadata": {}
  },
  {
   "cell_type": "code",
   "execution_count": 40,
   "source": [
    "Demographics$FirstPo <- as.Date(Demographics$FirstPo, \"%Y%m%d\")"
   ],
   "outputs": [],
   "metadata": {}
  },
  {
   "cell_type": "code",
   "execution_count": 41,
   "source": [
    "str(Demographics)"
   ],
   "outputs": [
    {
     "output_type": "stream",
     "name": "stdout",
     "text": [
      "Classes 'tbl_df', 'tbl' and 'data.frame':\t42649 obs. of  12 variables:\n",
      " $ UserID       : num  1324354 1324355 1324356 1324358 1324360 ...\n",
      "  ..- attr(*, \"label\")= chr \"User ID\"\n",
      " $ Country      : num  276 300 276 752 792 276 208 276 620 792 ...\n",
      "  ..- attr(*, \"label\")= chr \"Country of residence\"\n",
      " $ Language     : num  2 8 2 1 7 2 11 2 16 7 ...\n",
      "  ..- attr(*, \"label\")= chr \"Primary language\"\n",
      " $ RegDate      : Date, format: \"2005-02-01\" \"2005-02-01\" ...\n",
      " $ FirstPay     : Date, format: \"2005-02-24\" \"2005-02-01\" ...\n",
      " $ FirstAct     : Date, format: \"2005-02-24\" \"2005-02-01\" ...\n",
      " $ FirstSp      : Date, format: \"2005-02-24\" \"2005-02-01\" ...\n",
      " $ FirstCa      : Date, format: NA NA ...\n",
      " $ FirstGa      : Date, format: NA NA ...\n",
      " $ FirstPo      : Date, format: NA \"2005-06-11\" ...\n",
      " $ ApplicationID: num  3 1 3 1 9 3 1 3 1 9 ...\n",
      "  ..- attr(*, \"label\")= chr \"Application ID\"\n",
      " $ Gender       : num  1 1 1 1 1 1 1 1 1 1 ...\n"
     ]
    }
   ],
   "metadata": {}
  }
 ],
 "metadata": {
  "orig_nbformat": 4,
  "language_info": {
   "name": "R",
   "codemirror_mode": "r",
   "pygments_lexer": "r",
   "mimetype": "text/x-r-source",
   "file_extension": ".r",
   "version": "3.6.1"
  },
  "kernelspec": {
   "name": "python396jvsc74a57bd0d7ff20910c5304552d0b4c1164dfc0a171c277810953fa1692cab57ae17a1bfb",
   "display_name": "R",
   "language": "R"
  }
 },
 "nbformat": 4,
 "nbformat_minor": 2
}